{
 "cells": [
  {
   "cell_type": "code",
   "execution_count": 87,
   "metadata": {
    "collapsed": true
   },
   "outputs": [],
   "source": [
    "import numpy as np\n",
    "import pandas as pd\n",
    "import os\n",
    "for dirname, _, filenames in os.walk('/kaggle/input'):\n",
    "    for filename in filenames:\n",
    "        print(os.path.join(dirname, filename))\n",
    "\n",
    "import string\n",
    "from nltk.corpus import stopwords\n",
    "PUNCT_TO_REMOVE = string.punctuation\n",
    "STOPWORDS = set(stopwords.words('english'))\n",
    "from nltk.stem import PorterStemmer\n",
    "from nltk.stem import WordNetLemmatizer\n",
    "from nltk import pos_tag, word_tokenize\n",
    "from nltk.data import load\n",
    "import re\n",
    "\n",
    "import tensorflow as tf\n",
    "from transformer import positional_encoding, EncoderLayer\n",
    "import matplotlib.pyplot as plt\n",
    "# from tensorflow.keras.callbacks import EarlyStopping\n",
    "# from transformers import BertTokenizer , TFBertModel\n",
    "AUTO = tf.data.experimental.AUTOTUNE"
   ]
  },
  {
   "attachments": {},
   "cell_type": "markdown",
   "metadata": {},
   "source": [
    "## Data/Preprocessing"
   ]
  },
  {
   "cell_type": "code",
   "execution_count": 2,
   "metadata": {
    "collapsed": false
   },
   "outputs": [
    {
     "name": "stdout",
     "output_type": "stream",
     "text": [
      "(3911, 8) (3, 2) (3, 7)\n"
     ]
    }
   ],
   "source": [
    "data_dir = \"kaggle/input/\"\n",
    "bert_dir = \"kaggle/input/huggingface-bert-variants/bert-base-uncased/\"\n",
    "train_df = pd.read_csv(data_dir + 'feedback-prize-english-language-learning/train.csv')\n",
    "test_df = pd.read_csv(data_dir + 'feedback-prize-english-language-learning/test.csv')\n",
    "sample_df = pd.read_csv(data_dir + 'feedback-prize-english-language-learning/sample_submission.csv')\n",
    "bert_path = bert_dir + 'bert-base-uncased'\n",
    "print(train_df.shape, test_df.shape, sample_df.shape)"
   ]
  },
  {
   "cell_type": "code",
   "execution_count": 3,
   "metadata": {
    "collapsed": false
   },
   "outputs": [
    {
     "name": "stdout",
     "output_type": "stream",
     "text": [
      "(3128, 8) (782, 8)\n"
     ]
    }
   ],
   "source": [
    "size = train_df.shape[0]\n",
    "train, validate = int(0.8*size), int(0.2*size)\n",
    "valid_df = train_df.tail(validate).copy()\n",
    "train_df = train_df.head(train).copy()\n",
    "print(train_df.shape, valid_df.shape)"
   ]
  },
  {
   "cell_type": "code",
   "execution_count": 4,
   "metadata": {
    "collapsed": false
   },
   "outputs": [
    {
     "name": "stdout",
     "output_type": "stream",
     "text": [
      "(3128, 8) (3, 2) (782, 8)\n"
     ]
    }
   ],
   "source": [
    "# Merging Train and Test Data\n",
    "train_size = train_df.shape[0]\n",
    "test_size = test_df.shape[0]\n",
    "print(train_df.shape, test_df.shape, valid_df.shape)"
   ]
  },
  {
   "cell_type": "code",
   "execution_count": 5,
   "metadata": {
    "collapsed": false
   },
   "outputs": [],
   "source": [
    "lemmatizer = WordNetLemmatizer()\n",
    "\n",
    "def preprocess(text) :\n",
    "    text = text.lower()\n",
    "    text = re.sub(r'https?://\\S+|www\\.\\S+','', text)\n",
    "    text = re.sub(r'@[0-9a-zA-Z]*\\W+',' ' , text)\n",
    "\n",
    "    text = re.sub(r'\\d+', ' ', text)\n",
    "    text = re.sub(r'\\#', ' ', text)\n",
    "    text = re.sub(r'\\'', ' ', text)\n",
    "\n",
    "    list_text = text.split()\n",
    "    text = ' '.join(list_text)\n",
    "    return text"
   ]
  },
  {
   "cell_type": "code",
   "execution_count": 6,
   "metadata": {
    "collapsed": false
   },
   "outputs": [],
   "source": [
    "text_vocab = set()\n",
    "pos_vocab = list(load('help/tagsets/upenn_tagset.pickle').keys())\n",
    "max_text_len = 0\n",
    "truncate_to = 512\n",
    "for dataset in [train_df, valid_df, test_df]:\n",
    "    dataset.drop(['text_id'], axis=1, inplace=True)\n",
    "    dataset['full_text'] = dataset['full_text'].apply(lambda text : preprocess(text))\n",
    "    dataset['pos_tag'] = dataset['full_text'].apply(lambda text: pos_tag(word_tokenize(text)))\n",
    "    # there are 36 possible pos_tags\n",
    "    dataset['pos'] = dataset['pos_tag'].apply(lambda text: ' '.join([elem[1] for elem in text[:truncate_to]]))\n",
    "    dataset['tokens'] = dataset['pos_tag'].apply(lambda text: [elem[0] for elem in text[:truncate_to]])\n",
    "    for tokens in dataset['tokens']:\n",
    "        text_vocab.update(tokens)\n",
    "        max_text_len = max(max_text_len, len(tokens))\n",
    "    dataset['tokens'] = dataset['tokens'].apply(lambda text: ' '.join(text))\n",
    "    dataset.drop(['full_text'], axis=1, inplace=True)\n",
    "    dataset.drop(['pos_tag'], axis=1, inplace=True)\n",
    "all_data = pd.concat((train_df, valid_df, test_df)).reset_index(drop=True)"
   ]
  },
  {
   "cell_type": "code",
   "execution_count": 7,
   "metadata": {
    "collapsed": false
   },
   "outputs": [
    {
     "data": {
      "text/plain": [
       "512"
      ]
     },
     "execution_count": 7,
     "metadata": {},
     "output_type": "execute_result"
    }
   ],
   "source": [
    "max_text_len"
   ]
  },
  {
   "cell_type": "code",
   "execution_count": 8,
   "metadata": {
    "collapsed": false
   },
   "outputs": [
    {
     "data": {
      "text/html": [
       "<div>\n",
       "<style scoped>\n",
       "    .dataframe tbody tr th:only-of-type {\n",
       "        vertical-align: middle;\n",
       "    }\n",
       "\n",
       "    .dataframe tbody tr th {\n",
       "        vertical-align: top;\n",
       "    }\n",
       "\n",
       "    .dataframe thead th {\n",
       "        text-align: right;\n",
       "    }\n",
       "</style>\n",
       "<table border=\"1\" class=\"dataframe\">\n",
       "  <thead>\n",
       "    <tr style=\"text-align: right;\">\n",
       "      <th></th>\n",
       "      <th>cohesion</th>\n",
       "      <th>syntax</th>\n",
       "      <th>vocabulary</th>\n",
       "      <th>phraseology</th>\n",
       "      <th>grammar</th>\n",
       "      <th>conventions</th>\n",
       "      <th>pos</th>\n",
       "      <th>tokens</th>\n",
       "    </tr>\n",
       "  </thead>\n",
       "  <tbody>\n",
       "    <tr>\n",
       "      <th>0</th>\n",
       "      <td>3.5</td>\n",
       "      <td>3.5</td>\n",
       "      <td>3.0</td>\n",
       "      <td>3.0</td>\n",
       "      <td>4.0</td>\n",
       "      <td>3.0</td>\n",
       "      <td>NN VBP IN NNS MD VB IN VBG IN NN , IN PRP VBP ...</td>\n",
       "      <td>i think that students would benefit from learn...</td>\n",
       "    </tr>\n",
       "    <tr>\n",
       "      <th>1</th>\n",
       "      <td>2.5</td>\n",
       "      <td>2.5</td>\n",
       "      <td>3.0</td>\n",
       "      <td>2.0</td>\n",
       "      <td>2.0</td>\n",
       "      <td>2.5</td>\n",
       "      <td>WRB DT NN VBZ DT NN PRP VBP TO VB PRP VB DT JJ...</td>\n",
       "      <td>when a problem is a change you have to let it ...</td>\n",
       "    </tr>\n",
       "    <tr>\n",
       "      <th>2</th>\n",
       "      <td>3.0</td>\n",
       "      <td>3.5</td>\n",
       "      <td>3.0</td>\n",
       "      <td>3.0</td>\n",
       "      <td>3.0</td>\n",
       "      <td>2.5</td>\n",
       "      <td>NN , JJ IN JJ VBP DT NN NN IN VBG DT NN NN NN ...</td>\n",
       "      <td>dear , principal if u change the school policy...</td>\n",
       "    </tr>\n",
       "    <tr>\n",
       "      <th>3</th>\n",
       "      <td>4.5</td>\n",
       "      <td>4.5</td>\n",
       "      <td>4.5</td>\n",
       "      <td>4.5</td>\n",
       "      <td>4.0</td>\n",
       "      <td>5.0</td>\n",
       "      <td>DT JJS NN IN NN VBZ WRB PRP VBP PRP . VB VBP I...</td>\n",
       "      <td>the best time in life is when you become yours...</td>\n",
       "    </tr>\n",
       "    <tr>\n",
       "      <th>4</th>\n",
       "      <td>2.5</td>\n",
       "      <td>3.0</td>\n",
       "      <td>3.0</td>\n",
       "      <td>3.0</td>\n",
       "      <td>2.5</td>\n",
       "      <td>2.5</td>\n",
       "      <td>JJ NN IN NN MD VB IN JJ NNS MD VB NNS TO VB JJ...</td>\n",
       "      <td>small act of kindness can impact in other peop...</td>\n",
       "    </tr>\n",
       "  </tbody>\n",
       "</table>\n",
       "</div>"
      ],
      "text/plain": [
       "   cohesion  syntax  vocabulary  phraseology  grammar  conventions  \\\n",
       "0       3.5     3.5         3.0          3.0      4.0          3.0   \n",
       "1       2.5     2.5         3.0          2.0      2.0          2.5   \n",
       "2       3.0     3.5         3.0          3.0      3.0          2.5   \n",
       "3       4.5     4.5         4.5          4.5      4.0          5.0   \n",
       "4       2.5     3.0         3.0          3.0      2.5          2.5   \n",
       "\n",
       "                                                 pos  \\\n",
       "0  NN VBP IN NNS MD VB IN VBG IN NN , IN PRP VBP ...   \n",
       "1  WRB DT NN VBZ DT NN PRP VBP TO VB PRP VB DT JJ...   \n",
       "2  NN , JJ IN JJ VBP DT NN NN IN VBG DT NN NN NN ...   \n",
       "3  DT JJS NN IN NN VBZ WRB PRP VBP PRP . VB VBP I...   \n",
       "4  JJ NN IN NN MD VB IN JJ NNS MD VB NNS TO VB JJ...   \n",
       "\n",
       "                                              tokens  \n",
       "0  i think that students would benefit from learn...  \n",
       "1  when a problem is a change you have to let it ...  \n",
       "2  dear , principal if u change the school policy...  \n",
       "3  the best time in life is when you become yours...  \n",
       "4  small act of kindness can impact in other peop...  "
      ]
     },
     "execution_count": 8,
     "metadata": {},
     "output_type": "execute_result"
    }
   ],
   "source": [
    "# tag parts of speech, add as feature\n",
    "train_df.head()"
   ]
  },
  {
   "attachments": {},
   "cell_type": "markdown",
   "metadata": {},
   "source": [
    "## Grammar Model"
   ]
  },
  {
   "cell_type": "code",
   "execution_count": 29,
   "metadata": {
    "collapsed": false
   },
   "outputs": [],
   "source": [
    "# \"(E)lement-(Wi)se (Dense)\" Layer for combining two embeddings (or other multi-feature time sequence data) with a Dense layer applied element-wise (so not exactly Dense, as in the output embedding the first position is only determined by a linear combination of the two embedding values in corresponding positions in the two input embeddings)\n",
    "# (We picked this name because it was funny)\n",
    "class EWiDense(tf.keras.layers.Layer):\n",
    "    def __init__(self, activation=None, **kwargs):\n",
    "        super(EWiDense, self).__init__(**kwargs)\n",
    "        self.activation = activation\n",
    "\n",
    "    def build(self, input_shape):\n",
    "        self.embedding_size = input_shape[0][-1]\n",
    "        # print(self.tile_shape)\n",
    "        self.w1 = self.add_weight(\n",
    "            shape=[self.embedding_size],\n",
    "            initializer=\"ones\",\n",
    "            trainable=True,\n",
    "            name='w1'\n",
    "        )\n",
    "        # print(tf.shape(self.w1))\n",
    "        self.w2 = self.add_weight(\n",
    "            shape=[self.embedding_size],\n",
    "            initializer=\"ones\",\n",
    "            trainable=True,\n",
    "            name='w2'\n",
    "        )\n",
    "        self.b1 = self.add_weight(\n",
    "            shape=[self.embedding_size],\n",
    "            initializer=\"zeros\",\n",
    "            trainable=True,\n",
    "            name='b1'\n",
    "        )\n",
    "\n",
    "    def call(self, data):  # expected x of two embeddings of shape batch_size, seq_len, embedding_size\n",
    "        if self.activation:\n",
    "            return self.activation(tf.multiply(data[0], self.w1) + tf.multiply(data[1], self.w2) + self.b1)\n",
    "        return tf.multiply(data[0], self.w1) + tf.multiply(data[1], self.w2) + self.b1"
   ]
  },
  {
   "cell_type": "code",
   "execution_count": 30,
   "metadata": {
    "collapsed": false
   },
   "outputs": [],
   "source": [
    "# compare standard positional encoding with grammar + positional encodinng\n",
    "# use encoder networks, but not the decoders because we don't have an output sequence really\n",
    "\n",
    "class GrammarModel(tf.keras.Model):\n",
    "    def __init__(self, num_layers, d_model, num_heads, dff,\n",
    "               max_text_len, text_vocab, pos_vocab, dropout_rate=0.1):\n",
    "        super().__init__()\n",
    "        self.num_layers = num_layers\n",
    "        self.d_model = d_model\n",
    "        with tf.device(\"/cpu:0\"):\n",
    "            self.text_vectorization = tf.keras.layers.TextVectorization(output_mode='int', output_sequence_length=max_text_len)\n",
    "            self.text_vectorization.adapt(text_vocab)\n",
    "            self.pos_vectorization = tf.keras.layers.TextVectorization(output_mode='int', output_sequence_length=max_text_len)\n",
    "            self.pos_vectorization.adapt(pos_vocab)\n",
    "            self.word_embedding = tf.keras.layers.Embedding(self.text_vectorization.vocabulary_size(), d_model) # replace\n",
    "            self.pos_embedding = tf.keras.layers.Embedding(self.pos_vectorization.vocabulary_size(), d_model)\n",
    "        self.EWiDenseLayer = EWiDense(activation=tf.keras.layers.LeakyReLU())\n",
    "        self.pos_encoding = tf.Variable(positional_encoding(length=max_text_len, depth=d_model), trainable=False)\n",
    "        self.pos_scalar = tf.math.sqrt(tf.cast(self.d_model, tf.float32))\n",
    "        self.enc_layers = [\n",
    "            EncoderLayer(d_model=d_model,\n",
    "                         num_heads=num_heads,\n",
    "                         dff=dff,\n",
    "                         dropout_rate=dropout_rate)\n",
    "            for _ in range(num_layers)]\n",
    "        self.dropout = tf.keras.layers.Dropout(dropout_rate)\n",
    "        self.pooling = tf.keras.layers.GlobalAveragePooling1D()\n",
    "        self.layernorm = tf.keras.layers.LayerNormalization()\n",
    "        self.dense = tf.keras.layers.Dense(1)\n",
    "\n",
    "    def call(self, inputs):\n",
    "        words = inputs[:, 0]\n",
    "        pos = inputs[:, 1]\n",
    "        # combine embeddings\n",
    "        words = self.text_vectorization(words)\n",
    "        pos = self.pos_vectorization(pos)\n",
    "        x = self.EWiDenseLayer((self.word_embedding(words), self.pos_embedding(pos)))\n",
    "        # add positional encoding\n",
    "        x = x * self.pos_scalar\n",
    "        x = x + self.pos_encoding\n",
    "        # dropout\n",
    "        x = self.dropout(x)\n",
    "        # add encoding layers\n",
    "        for i in range(self.num_layers):\n",
    "            x = self.enc_layers[i](x)\n",
    "        x = self.dropout(x)\n",
    "        x = self.pooling(x)\n",
    "        x = self.layernorm(x)\n",
    "        return self.dense(x)"
   ]
  },
  {
   "cell_type": "code",
   "execution_count": 31,
   "metadata": {
    "collapsed": false
   },
   "outputs": [],
   "source": [
    "## Column-wise RMSE\n",
    "def MCRMSE(y_true, y_pred):\n",
    "    mcrmse = tf.reduce_mean(tf.square(y_true - y_pred), axis=1)\n",
    "    return tf.reduce_mean(tf.sqrt(mcrmse), axis=-1, keepdims=True)"
   ]
  },
  {
   "cell_type": "code",
   "execution_count": 67,
   "metadata": {
    "collapsed": false
   },
   "outputs": [],
   "source": [
    "def create_model():\n",
    "    num_layers = 2\n",
    "    d_model = 64\n",
    "    dff = 256\n",
    "    num_heads = 4\n",
    "    dropout_rate = 0.3\n",
    "    model = GrammarModel(num_layers, d_model, num_heads, dff, max_text_len, np.array(list(text_vocab)), np.array(list(pos_vocab)), dropout_rate)\n",
    "    model.compile(optimizer=tf.keras.optimizers.Adam(1e-5, clipnorm=1, amsgrad=True), loss=MCRMSE, metrics=MCRMSE, run_eagerly=True)\n",
    "    return model"
   ]
  },
  {
   "cell_type": "code",
   "execution_count": 68,
   "metadata": {
    "collapsed": false
   },
   "outputs": [],
   "source": [
    "model = create_model()\n",
    "# model.summary()"
   ]
  },
  {
   "cell_type": "code",
   "execution_count": 69,
   "metadata": {
    "collapsed": false
   },
   "outputs": [
    {
     "data": {
      "text/plain": [
       "283"
      ]
     },
     "execution_count": 69,
     "metadata": {},
     "output_type": "execute_result"
    }
   ],
   "source": [
    "len(train_df.iloc[0][['tokens', 'pos']][0].split())"
   ]
  },
  {
   "cell_type": "code",
   "execution_count": 70,
   "metadata": {
    "collapsed": false
   },
   "outputs": [
    {
     "data": {
      "text/plain": [
       "20133"
      ]
     },
     "execution_count": 70,
     "metadata": {},
     "output_type": "execute_result"
    }
   ],
   "source": [
    "model.text_vectorization.vocabulary_size()"
   ]
  },
  {
   "cell_type": "code",
   "execution_count": 71,
   "metadata": {
    "collapsed": false
   },
   "outputs": [
    {
     "data": {
      "text/plain": [
       "512"
      ]
     },
     "execution_count": 71,
     "metadata": {},
     "output_type": "execute_result"
    }
   ],
   "source": [
    "max_text_len"
   ]
  },
  {
   "cell_type": "code",
   "execution_count": 72,
   "metadata": {
    "collapsed": false
   },
   "outputs": [
    {
     "name": "stdout",
     "output_type": "stream",
     "text": [
      "Model: \"grammar_model_7\"\n",
      "_________________________________________________________________\n",
      " Layer (type)                Output Shape              Param #   \n",
      "=================================================================\n",
      " text_vectorization_14 (Text  multiple                 0         \n",
      " Vectorization)                                                  \n",
      "                                                                 \n",
      " text_vectorization_15 (Text  multiple                 0         \n",
      " Vectorization)                                                  \n",
      "                                                                 \n",
      " embedding_14 (Embedding)    multiple                  1288512   \n",
      "                                                                 \n",
      " embedding_15 (Embedding)    multiple                  2304      \n",
      "                                                                 \n",
      " e_wi_dense_7 (EWiDense)     multiple                  192       \n",
      "                                                                 \n",
      " encoder_layer_27 (EncoderLa  multiple                 99712     \n",
      " yer)                                                            \n",
      "                                                                 \n",
      " encoder_layer_28 (EncoderLa  multiple                 99712     \n",
      " yer)                                                            \n",
      "                                                                 \n",
      " dropout_59 (Dropout)        multiple                  0         \n",
      "                                                                 \n",
      " global_average_pooling1d_7   multiple                 0         \n",
      " (GlobalAveragePooling1D)                                        \n",
      "                                                                 \n",
      " layer_normalization_65 (Lay  multiple                 128       \n",
      " erNormalization)                                                \n",
      "                                                                 \n",
      " dense_65 (Dense)            multiple                  65        \n",
      "                                                                 \n",
      "=================================================================\n",
      "Total params: 1,523,393\n",
      "Trainable params: 1,490,625\n",
      "Non-trainable params: 32,768\n",
      "_________________________________________________________________\n"
     ]
    }
   ],
   "source": [
    "model(tf.expand_dims(tf.convert_to_tensor(train_df.iloc[0][['tokens', 'pos']]), 0))\n",
    "model.summary()"
   ]
  },
  {
   "cell_type": "code",
   "execution_count": 73,
   "metadata": {
    "collapsed": false
   },
   "outputs": [],
   "source": [
    "# tf.debugging.disable_traceback_filtering()"
   ]
  },
  {
   "cell_type": "code",
   "execution_count": 74,
   "metadata": {
    "collapsed": false
   },
   "outputs": [],
   "source": [
    "# import tensorflow as tf\n",
    "# print(\"Num GPUs Available: \", len(tf.config.list_physical_devices('GPU')))"
   ]
  },
  {
   "cell_type": "code",
   "execution_count": 75,
   "metadata": {
    "collapsed": false
   },
   "outputs": [
    {
     "name": "stdout",
     "output_type": "stream",
     "text": [
      "Epoch 1/50\n",
      "782/782 [==============================] - ETA: 0s - loss: 0.8012 - MCRMSE: 0.8012\n",
      "Epoch 1: val_loss improved from inf to 0.65310, saving model to checkpoints_final\\\n",
      "782/782 [==============================] - 107s 137ms/step - loss: 0.8012 - MCRMSE: 0.8012 - val_loss: 0.6531 - val_MCRMSE: 0.6532\n",
      "Epoch 2/50\n",
      "782/782 [==============================] - ETA: 0s - loss: 0.5630 - MCRMSE: 0.5630\n",
      "Epoch 2: val_loss improved from 0.65310 to 0.62839, saving model to checkpoints_final\\\n",
      "782/782 [==============================] - 91s 117ms/step - loss: 0.5630 - MCRMSE: 0.5630 - val_loss: 0.6284 - val_MCRMSE: 0.6285\n",
      "Epoch 3/50\n",
      "782/782 [==============================] - ETA: 0s - loss: 0.5566 - MCRMSE: 0.5566\n",
      "Epoch 3: val_loss did not improve from 0.62839\n",
      "782/782 [==============================] - 107s 136ms/step - loss: 0.5566 - MCRMSE: 0.5566 - val_loss: 0.6516 - val_MCRMSE: 0.6515\n",
      "Epoch 4/50\n",
      "782/782 [==============================] - ETA: 0s - loss: 0.5554 - MCRMSE: 0.5554\n",
      "Epoch 4: val_loss improved from 0.62839 to 0.61150, saving model to checkpoints_final\\\n",
      "782/782 [==============================] - 84s 108ms/step - loss: 0.5554 - MCRMSE: 0.5554 - val_loss: 0.6115 - val_MCRMSE: 0.6115\n",
      "Epoch 5/50\n",
      "782/782 [==============================] - ETA: 0s - loss: 0.5515 - MCRMSE: 0.5515\n",
      "Epoch 5: val_loss improved from 0.61150 to 0.58076, saving model to checkpoints_final\\\n",
      "782/782 [==============================] - 73s 93ms/step - loss: 0.5515 - MCRMSE: 0.5515 - val_loss: 0.5808 - val_MCRMSE: 0.5807\n",
      "Epoch 6/50\n",
      "782/782 [==============================] - ETA: 0s - loss: 0.5438 - MCRMSE: 0.5438\n",
      "Epoch 6: val_loss improved from 0.58076 to 0.55934, saving model to checkpoints_final\\\n",
      "782/782 [==============================] - 73s 93ms/step - loss: 0.5438 - MCRMSE: 0.5438 - val_loss: 0.5593 - val_MCRMSE: 0.5596\n",
      "Epoch 7/50\n",
      "782/782 [==============================] - ETA: 0s - loss: 0.5340 - MCRMSE: 0.5340\n",
      "Epoch 7: val_loss did not improve from 0.55934\n",
      "782/782 [==============================] - 73s 93ms/step - loss: 0.5340 - MCRMSE: 0.5340 - val_loss: 0.5807 - val_MCRMSE: 0.5804\n",
      "Epoch 8/50\n",
      "782/782 [==============================] - ETA: 0s - loss: 0.5192 - MCRMSE: 0.5192\n",
      "Epoch 8: val_loss did not improve from 0.55934\n",
      "782/782 [==============================] - 69s 89ms/step - loss: 0.5192 - MCRMSE: 0.5192 - val_loss: 0.5663 - val_MCRMSE: 0.5665\n",
      "Epoch 9/50\n",
      "782/782 [==============================] - ETA: 0s - loss: 0.5101 - MCRMSE: 0.5101\n",
      "Epoch 9: val_loss improved from 0.55934 to 0.55789, saving model to checkpoints_final\\\n",
      "782/782 [==============================] - 71s 91ms/step - loss: 0.5101 - MCRMSE: 0.5101 - val_loss: 0.5579 - val_MCRMSE: 0.5581\n",
      "Epoch 10/50\n",
      "782/782 [==============================] - ETA: 0s - loss: 0.4973 - MCRMSE: 0.4973\n",
      "Epoch 10: val_loss did not improve from 0.55789\n",
      "782/782 [==============================] - 69s 88ms/step - loss: 0.4973 - MCRMSE: 0.4973 - val_loss: 0.6025 - val_MCRMSE: 0.6025\n",
      "Epoch 11/50\n",
      "782/782 [==============================] - ETA: 0s - loss: 0.4994 - MCRMSE: 0.4994\n",
      "Epoch 11: val_loss improved from 0.55789 to 0.52212, saving model to checkpoints_final\\\n",
      "782/782 [==============================] - 73s 94ms/step - loss: 0.4994 - MCRMSE: 0.4994 - val_loss: 0.5221 - val_MCRMSE: 0.5227\n",
      "Epoch 12/50\n",
      "782/782 [==============================] - ETA: 0s - loss: 0.4931 - MCRMSE: 0.4931\n",
      "Epoch 12: val_loss did not improve from 0.52212\n",
      "782/782 [==============================] - 78s 100ms/step - loss: 0.4931 - MCRMSE: 0.4931 - val_loss: 0.5434 - val_MCRMSE: 0.5437\n",
      "Epoch 13/50\n",
      "782/782 [==============================] - ETA: 0s - loss: 0.4902 - MCRMSE: 0.4902\n",
      "Epoch 13: val_loss did not improve from 0.52212\n",
      "782/782 [==============================] - 75s 97ms/step - loss: 0.4902 - MCRMSE: 0.4902 - val_loss: 0.5698 - val_MCRMSE: 0.5699\n",
      "Epoch 14/50\n",
      "782/782 [==============================] - ETA: 0s - loss: 0.4853 - MCRMSE: 0.4853\n",
      "Epoch 14: val_loss did not improve from 0.52212\n",
      "782/782 [==============================] - 75s 96ms/step - loss: 0.4853 - MCRMSE: 0.4853 - val_loss: 0.5500 - val_MCRMSE: 0.5503\n",
      "Epoch 15/50\n",
      "782/782 [==============================] - ETA: 0s - loss: 0.4833 - MCRMSE: 0.4833\n",
      "Epoch 15: val_loss did not improve from 0.52212\n",
      "782/782 [==============================] - 70s 90ms/step - loss: 0.4833 - MCRMSE: 0.4833 - val_loss: 0.5271 - val_MCRMSE: 0.5277\n",
      "Epoch 16/50\n",
      "782/782 [==============================] - ETA: 0s - loss: 0.4789 - MCRMSE: 0.4789\n",
      "Epoch 16: val_loss did not improve from 0.52212\n",
      "782/782 [==============================] - 74s 95ms/step - loss: 0.4789 - MCRMSE: 0.4789 - val_loss: 0.5238 - val_MCRMSE: 0.5244\n",
      "Epoch 17/50\n",
      "782/782 [==============================] - ETA: 0s - loss: 0.4795 - MCRMSE: 0.4795\n",
      "Epoch 17: val_loss did not improve from 0.52212\n",
      "782/782 [==============================] - 73s 93ms/step - loss: 0.4795 - MCRMSE: 0.4795 - val_loss: 0.5450 - val_MCRMSE: 0.5453\n",
      "Epoch 18/50\n",
      "782/782 [==============================] - ETA: 0s - loss: 0.4761 - MCRMSE: 0.4761\n",
      "Epoch 18: val_loss did not improve from 0.52212\n",
      "782/782 [==============================] - 70s 90ms/step - loss: 0.4761 - MCRMSE: 0.4761 - val_loss: 0.5649 - val_MCRMSE: 0.5649\n",
      "Epoch 19/50\n",
      "782/782 [==============================] - ETA: 0s - loss: 0.4738 - MCRMSE: 0.4738\n",
      "Epoch 19: val_loss did not improve from 0.52212\n",
      "782/782 [==============================] - 76s 97ms/step - loss: 0.4738 - MCRMSE: 0.4738 - val_loss: 0.5261 - val_MCRMSE: 0.5267\n",
      "Epoch 20/50\n",
      "782/782 [==============================] - ETA: 0s - loss: 0.4708 - MCRMSE: 0.4708\n",
      "Epoch 20: val_loss did not improve from 0.52212\n",
      "782/782 [==============================] - 71s 91ms/step - loss: 0.4708 - MCRMSE: 0.4708 - val_loss: 0.6362 - val_MCRMSE: 0.6358\n",
      "Epoch 21/50\n",
      "782/782 [==============================] - ETA: 0s - loss: 0.4718 - MCRMSE: 0.4718\n",
      "Epoch 21: val_loss did not improve from 0.52212\n",
      "782/782 [==============================] - 75s 96ms/step - loss: 0.4718 - MCRMSE: 0.4718 - val_loss: 0.5345 - val_MCRMSE: 0.5350\n",
      "Epoch 22/50\n",
      "782/782 [==============================] - ETA: 0s - loss: 0.4690 - MCRMSE: 0.4690\n",
      "Epoch 22: val_loss did not improve from 0.52212\n",
      "782/782 [==============================] - 75s 96ms/step - loss: 0.4690 - MCRMSE: 0.4690 - val_loss: 0.5249 - val_MCRMSE: 0.5256\n",
      "Epoch 23/50\n",
      "782/782 [==============================] - ETA: 0s - loss: 0.4623 - MCRMSE: 0.4623\n",
      "Epoch 23: val_loss did not improve from 0.52212\n",
      "782/782 [==============================] - 76s 97ms/step - loss: 0.4623 - MCRMSE: 0.4623 - val_loss: 0.5550 - val_MCRMSE: 0.5554\n",
      "Epoch 24/50\n",
      "782/782 [==============================] - ETA: 0s - loss: 0.4654 - MCRMSE: 0.4654\n",
      "Epoch 24: val_loss did not improve from 0.52212\n",
      "782/782 [==============================] - 75s 96ms/step - loss: 0.4654 - MCRMSE: 0.4654 - val_loss: 0.5935 - val_MCRMSE: 0.5934\n",
      "Epoch 25/50\n",
      "782/782 [==============================] - ETA: 0s - loss: 0.4609 - MCRMSE: 0.4609\n",
      "Epoch 25: val_loss did not improve from 0.52212\n",
      "782/782 [==============================] - 76s 97ms/step - loss: 0.4609 - MCRMSE: 0.4609 - val_loss: 0.5850 - val_MCRMSE: 0.5849\n",
      "Epoch 26/50\n",
      "782/782 [==============================] - ETA: 0s - loss: 0.4618 - MCRMSE: 0.4618\n",
      "Epoch 26: val_loss did not improve from 0.52212\n",
      "782/782 [==============================] - 72s 92ms/step - loss: 0.4618 - MCRMSE: 0.4618 - val_loss: 0.5422 - val_MCRMSE: 0.5425\n",
      "Epoch 27/50\n",
      "782/782 [==============================] - ETA: 0s - loss: 0.4567 - MCRMSE: 0.4567\n",
      "Epoch 27: val_loss improved from 0.52212 to 0.49282, saving model to checkpoints_final\\\n",
      "782/782 [==============================] - 76s 97ms/step - loss: 0.4567 - MCRMSE: 0.4567 - val_loss: 0.4928 - val_MCRMSE: 0.4937\n",
      "Epoch 28/50\n",
      "782/782 [==============================] - ETA: 0s - loss: 0.4557 - MCRMSE: 0.4557\n",
      "Epoch 28: val_loss did not improve from 0.49282\n",
      "782/782 [==============================] - 75s 96ms/step - loss: 0.4557 - MCRMSE: 0.4557 - val_loss: 0.5123 - val_MCRMSE: 0.5129\n",
      "Epoch 29/50\n",
      "782/782 [==============================] - ETA: 0s - loss: 0.4461 - MCRMSE: 0.4461\n",
      "Epoch 29: val_loss did not improve from 0.49282\n",
      "782/782 [==============================] - 75s 96ms/step - loss: 0.4461 - MCRMSE: 0.4461 - val_loss: 0.5072 - val_MCRMSE: 0.5080\n",
      "Epoch 30/50\n",
      "782/782 [==============================] - ETA: 0s - loss: 0.4502 - MCRMSE: 0.4502\n",
      "Epoch 30: val_loss did not improve from 0.49282\n",
      "782/782 [==============================] - 74s 94ms/step - loss: 0.4502 - MCRMSE: 0.4502 - val_loss: 0.5100 - val_MCRMSE: 0.5107\n",
      "Epoch 31/50\n",
      "782/782 [==============================] - ETA: 0s - loss: 0.4440 - MCRMSE: 0.4440\n",
      "Epoch 31: val_loss did not improve from 0.49282\n",
      "782/782 [==============================] - 75s 95ms/step - loss: 0.4440 - MCRMSE: 0.4440 - val_loss: 0.5093 - val_MCRMSE: 0.5098\n",
      "Epoch 32/50\n",
      "782/782 [==============================] - ETA: 0s - loss: 0.4493 - MCRMSE: 0.4493\n",
      "Epoch 32: val_loss did not improve from 0.49282\n",
      "782/782 [==============================] - 76s 97ms/step - loss: 0.4493 - MCRMSE: 0.4493 - val_loss: 0.5281 - val_MCRMSE: 0.5285\n",
      "Epoch 33/50\n",
      "782/782 [==============================] - ETA: 0s - loss: 0.4401 - MCRMSE: 0.4401\n",
      "Epoch 33: val_loss did not improve from 0.49282\n",
      "782/782 [==============================] - 72s 92ms/step - loss: 0.4401 - MCRMSE: 0.4401 - val_loss: 0.5164 - val_MCRMSE: 0.5169\n",
      "Epoch 34/50\n",
      "782/782 [==============================] - ETA: 0s - loss: 0.4455 - MCRMSE: 0.4455\n",
      "Epoch 34: val_loss did not improve from 0.49282\n",
      "782/782 [==============================] - 72s 92ms/step - loss: 0.4455 - MCRMSE: 0.4455 - val_loss: 0.5955 - val_MCRMSE: 0.5954\n",
      "Epoch 35/50\n",
      "782/782 [==============================] - ETA: 0s - loss: 0.4400 - MCRMSE: 0.4400\n",
      "Epoch 35: val_loss did not improve from 0.49282\n",
      "782/782 [==============================] - 75s 96ms/step - loss: 0.4400 - MCRMSE: 0.4400 - val_loss: 0.4953 - val_MCRMSE: 0.4962\n",
      "Epoch 36/50\n",
      "782/782 [==============================] - ETA: 0s - loss: 0.4380 - MCRMSE: 0.4380\n",
      "Epoch 36: val_loss did not improve from 0.49282\n",
      "782/782 [==============================] - 72s 92ms/step - loss: 0.4380 - MCRMSE: 0.4380 - val_loss: 0.4994 - val_MCRMSE: 0.5002\n",
      "Epoch 37/50\n",
      "782/782 [==============================] - ETA: 0s - loss: 0.4288 - MCRMSE: 0.4288\n",
      "Epoch 37: val_loss did not improve from 0.49282\n",
      "782/782 [==============================] - 75s 96ms/step - loss: 0.4288 - MCRMSE: 0.4288 - val_loss: 0.5053 - val_MCRMSE: 0.5059\n",
      "Epoch 38/50\n",
      "782/782 [==============================] - ETA: 0s - loss: 0.4290 - MCRMSE: 0.4290\n",
      "Epoch 38: val_loss did not improve from 0.49282\n",
      "782/782 [==============================] - 72s 92ms/step - loss: 0.4290 - MCRMSE: 0.4290 - val_loss: 0.4965 - val_MCRMSE: 0.4973\n",
      "Epoch 39/50\n",
      "782/782 [==============================] - ETA: 0s - loss: 0.4365 - MCRMSE: 0.4365\n",
      "Epoch 39: val_loss did not improve from 0.49282\n",
      "782/782 [==============================] - 72s 93ms/step - loss: 0.4365 - MCRMSE: 0.4365 - val_loss: 0.5081 - val_MCRMSE: 0.5089\n",
      "Epoch 40/50\n",
      "782/782 [==============================] - ETA: 0s - loss: 0.4293 - MCRMSE: 0.4293\n",
      "Epoch 40: val_loss did not improve from 0.49282\n",
      "782/782 [==============================] - 75s 96ms/step - loss: 0.4293 - MCRMSE: 0.4293 - val_loss: 0.5198 - val_MCRMSE: 0.5204\n",
      "Epoch 41/50\n",
      "782/782 [==============================] - ETA: 0s - loss: 0.4311 - MCRMSE: 0.4311\n",
      "Epoch 41: val_loss improved from 0.49282 to 0.48284, saving model to checkpoints_final\\\n",
      "782/782 [==============================] - 71s 91ms/step - loss: 0.4311 - MCRMSE: 0.4311 - val_loss: 0.4828 - val_MCRMSE: 0.4840\n",
      "Epoch 42/50\n",
      "782/782 [==============================] - ETA: 0s - loss: 0.4269 - MCRMSE: 0.4269\n",
      "Epoch 42: val_loss did not improve from 0.48284\n",
      "782/782 [==============================] - 76s 97ms/step - loss: 0.4269 - MCRMSE: 0.4269 - val_loss: 0.5245 - val_MCRMSE: 0.5249\n",
      "Epoch 43/50\n",
      "782/782 [==============================] - ETA: 0s - loss: 0.4264 - MCRMSE: 0.4264\n",
      "Epoch 43: val_loss did not improve from 0.48284\n",
      "782/782 [==============================] - 76s 97ms/step - loss: 0.4264 - MCRMSE: 0.4264 - val_loss: 0.5160 - val_MCRMSE: 0.5165\n",
      "Epoch 44/50\n",
      "782/782 [==============================] - ETA: 0s - loss: 0.4193 - MCRMSE: 0.4193\n",
      "Epoch 44: val_loss did not improve from 0.48284\n",
      "782/782 [==============================] - 71s 91ms/step - loss: 0.4193 - MCRMSE: 0.4193 - val_loss: 0.4869 - val_MCRMSE: 0.4879\n",
      "Epoch 45/50\n",
      "782/782 [==============================] - ETA: 0s - loss: 0.4186 - MCRMSE: 0.4186\n",
      "Epoch 45: val_loss did not improve from 0.48284\n",
      "782/782 [==============================] - 76s 98ms/step - loss: 0.4186 - MCRMSE: 0.4186 - val_loss: 0.5392 - val_MCRMSE: 0.5396\n",
      "Epoch 46/50\n",
      "782/782 [==============================] - ETA: 0s - loss: 0.4194 - MCRMSE: 0.4194\n",
      "Epoch 46: val_loss did not improve from 0.48284\n",
      "782/782 [==============================] - 72s 93ms/step - loss: 0.4194 - MCRMSE: 0.4194 - val_loss: 0.5100 - val_MCRMSE: 0.5107\n",
      "Epoch 47/50\n",
      "782/782 [==============================] - ETA: 0s - loss: 0.4151 - MCRMSE: 0.4151\n",
      "Epoch 47: val_loss did not improve from 0.48284\n",
      "782/782 [==============================] - 73s 93ms/step - loss: 0.4151 - MCRMSE: 0.4151 - val_loss: 0.5256 - val_MCRMSE: 0.5261\n",
      "Epoch 48/50\n",
      "782/782 [==============================] - ETA: 0s - loss: 0.4202 - MCRMSE: 0.4202\n",
      "Epoch 48: val_loss did not improve from 0.48284\n",
      "782/782 [==============================] - 75s 96ms/step - loss: 0.4202 - MCRMSE: 0.4202 - val_loss: 0.4994 - val_MCRMSE: 0.5002\n",
      "Epoch 49/50\n",
      "782/782 [==============================] - ETA: 0s - loss: 0.4137 - MCRMSE: 0.4137\n",
      "Epoch 49: val_loss did not improve from 0.48284\n",
      "782/782 [==============================] - 77s 98ms/step - loss: 0.4137 - MCRMSE: 0.4137 - val_loss: 0.5328 - val_MCRMSE: 0.5331\n",
      "Epoch 50/50\n",
      "782/782 [==============================] - ETA: 0s - loss: 0.4135 - MCRMSE: 0.4135\n",
      "Epoch 50: val_loss did not improve from 0.48284\n",
      "782/782 [==============================] - 75s 96ms/step - loss: 0.4135 - MCRMSE: 0.4135 - val_loss: 0.5222 - val_MCRMSE: 0.5227\n"
     ]
    }
   ],
   "source": [
    "checkpoint_filepath = 'checkpoints_final/'\n",
    "model_checkpoint_callback = tf.keras.callbacks.ModelCheckpoint(\n",
    "    filepath=checkpoint_filepath,\n",
    "    monitor=\"val_loss\",\n",
    "    verbose=1,\n",
    "    save_weights_only=True,\n",
    "    mode='min',\n",
    "    save_best_only=True)\n",
    "history = model.fit(\n",
    "                    train_df[['tokens', 'pos']],\n",
    "                    train_df['grammar'],\n",
    "                    validation_data = (valid_df[['tokens', 'pos']], valid_df['grammar']),\n",
    "                    steps_per_epoch= train_df.shape[0]//4,\n",
    "                    batch_size = 4,\n",
    "                    epochs= 50,\n",
    "                    verbose = 1,\n",
    "                    shuffle= True,\n",
    "                    callbacks=[model_checkpoint_callback])"
   ]
  },
  {
   "cell_type": "code",
   "execution_count": 76,
   "metadata": {
    "collapsed": false
   },
   "outputs": [
    {
     "data": {
      "text/plain": [
       "<keras.callbacks.History at 0x2428bbc8160>"
      ]
     },
     "execution_count": 76,
     "metadata": {},
     "output_type": "execute_result"
    }
   ],
   "source": [
    "history"
   ]
  },
  {
   "cell_type": "code",
   "execution_count": 77,
   "metadata": {
    "collapsed": false
   },
   "outputs": [
    {
     "data": {
      "text/plain": [
       "{'loss': [0.8012470006942749,\n",
       "  0.5630247592926025,\n",
       "  0.5565518736839294,\n",
       "  0.5553680658340454,\n",
       "  0.5514611601829529,\n",
       "  0.5438314080238342,\n",
       "  0.5340473055839539,\n",
       "  0.5191813111305237,\n",
       "  0.5101017355918884,\n",
       "  0.49734771251678467,\n",
       "  0.49943339824676514,\n",
       "  0.49306151270866394,\n",
       "  0.49020135402679443,\n",
       "  0.48532959818840027,\n",
       "  0.4832874536514282,\n",
       "  0.47894561290740967,\n",
       "  0.4794844090938568,\n",
       "  0.47606727480888367,\n",
       "  0.47378048300743103,\n",
       "  0.4707631468772888,\n",
       "  0.47181662917137146,\n",
       "  0.4690331220626831,\n",
       "  0.4622923731803894,\n",
       "  0.46544119715690613,\n",
       "  0.4608984887599945,\n",
       "  0.4618304669857025,\n",
       "  0.4567420780658722,\n",
       "  0.45572429895401,\n",
       "  0.4460531175136566,\n",
       "  0.4502108097076416,\n",
       "  0.44403666257858276,\n",
       "  0.44933509826660156,\n",
       "  0.4400978684425354,\n",
       "  0.4455040991306305,\n",
       "  0.43997493386268616,\n",
       "  0.4380166232585907,\n",
       "  0.42877188324928284,\n",
       "  0.4290151000022888,\n",
       "  0.43651723861694336,\n",
       "  0.42925897240638733,\n",
       "  0.4310767948627472,\n",
       "  0.42694661021232605,\n",
       "  0.4263978898525238,\n",
       "  0.41928085684776306,\n",
       "  0.4185517430305481,\n",
       "  0.4193669855594635,\n",
       "  0.41508814692497253,\n",
       "  0.4202093780040741,\n",
       "  0.413666695356369,\n",
       "  0.4135158658027649],\n",
       " 'MCRMSE': [0.8012470006942749,\n",
       "  0.5630247592926025,\n",
       "  0.5565518736839294,\n",
       "  0.5553680658340454,\n",
       "  0.5514611601829529,\n",
       "  0.5438314080238342,\n",
       "  0.5340473055839539,\n",
       "  0.5191813111305237,\n",
       "  0.5101017355918884,\n",
       "  0.49734771251678467,\n",
       "  0.49943339824676514,\n",
       "  0.49306151270866394,\n",
       "  0.49020135402679443,\n",
       "  0.48532959818840027,\n",
       "  0.4832874536514282,\n",
       "  0.47894561290740967,\n",
       "  0.4794844090938568,\n",
       "  0.47606727480888367,\n",
       "  0.47378048300743103,\n",
       "  0.4707631468772888,\n",
       "  0.47181662917137146,\n",
       "  0.4690331220626831,\n",
       "  0.4622923731803894,\n",
       "  0.46544119715690613,\n",
       "  0.4608984887599945,\n",
       "  0.4618304669857025,\n",
       "  0.4567420780658722,\n",
       "  0.45572429895401,\n",
       "  0.4460531175136566,\n",
       "  0.4502108097076416,\n",
       "  0.44403666257858276,\n",
       "  0.44933509826660156,\n",
       "  0.4400978684425354,\n",
       "  0.4455040991306305,\n",
       "  0.43997493386268616,\n",
       "  0.4380166232585907,\n",
       "  0.42877188324928284,\n",
       "  0.4290151000022888,\n",
       "  0.43651723861694336,\n",
       "  0.42925897240638733,\n",
       "  0.4310767948627472,\n",
       "  0.42694661021232605,\n",
       "  0.4263978898525238,\n",
       "  0.41928085684776306,\n",
       "  0.4185517430305481,\n",
       "  0.4193669855594635,\n",
       "  0.41508814692497253,\n",
       "  0.4202093780040741,\n",
       "  0.413666695356369,\n",
       "  0.4135158658027649],\n",
       " 'val_loss': [0.6531000733375549,\n",
       "  0.6283888816833496,\n",
       "  0.6515523195266724,\n",
       "  0.6114962697029114,\n",
       "  0.5807554125785828,\n",
       "  0.5593360662460327,\n",
       "  0.5806558728218079,\n",
       "  0.5663070678710938,\n",
       "  0.5578876733779907,\n",
       "  0.6025254726409912,\n",
       "  0.5221219062805176,\n",
       "  0.5433775186538696,\n",
       "  0.5697997808456421,\n",
       "  0.5500302910804749,\n",
       "  0.5271092057228088,\n",
       "  0.523832380771637,\n",
       "  0.5450359582901001,\n",
       "  0.5648534893989563,\n",
       "  0.526136577129364,\n",
       "  0.6362318992614746,\n",
       "  0.534515917301178,\n",
       "  0.5248661637306213,\n",
       "  0.5550488233566284,\n",
       "  0.5935323238372803,\n",
       "  0.5850256681442261,\n",
       "  0.5422326922416687,\n",
       "  0.4928208291530609,\n",
       "  0.5123339891433716,\n",
       "  0.5071612596511841,\n",
       "  0.5100332498550415,\n",
       "  0.5092568397521973,\n",
       "  0.5280791521072388,\n",
       "  0.5163583755493164,\n",
       "  0.5954749584197998,\n",
       "  0.4953095316886902,\n",
       "  0.49941539764404297,\n",
       "  0.5052652955055237,\n",
       "  0.49645474553108215,\n",
       "  0.5081151127815247,\n",
       "  0.5198086500167847,\n",
       "  0.4828430414199829,\n",
       "  0.524526834487915,\n",
       "  0.5160290002822876,\n",
       "  0.486908882856369,\n",
       "  0.5392321944236755,\n",
       "  0.5099679827690125,\n",
       "  0.5256231427192688,\n",
       "  0.4994348883628845,\n",
       "  0.5328484773635864,\n",
       "  0.5221543312072754],\n",
       " 'val_MCRMSE': [0.6531914472579956,\n",
       "  0.628498911857605,\n",
       "  0.6515350341796875,\n",
       "  0.6114900708198547,\n",
       "  0.5807293653488159,\n",
       "  0.5595690011978149,\n",
       "  0.5804325342178345,\n",
       "  0.5664993524551392,\n",
       "  0.5581312775611877,\n",
       "  0.6025082468986511,\n",
       "  0.5226539969444275,\n",
       "  0.5437254905700684,\n",
       "  0.5698859691619873,\n",
       "  0.5502857565879822,\n",
       "  0.527742326259613,\n",
       "  0.5244015455245972,\n",
       "  0.545314610004425,\n",
       "  0.5648589134216309,\n",
       "  0.5266748666763306,\n",
       "  0.6358499526977539,\n",
       "  0.534954309463501,\n",
       "  0.5255562663078308,\n",
       "  0.5553649067878723,\n",
       "  0.5934433341026306,\n",
       "  0.5849458575248718,\n",
       "  0.5424976944923401,\n",
       "  0.49373292922973633,\n",
       "  0.5128951668739319,\n",
       "  0.5080378651618958,\n",
       "  0.5106606483459473,\n",
       "  0.5097651481628418,\n",
       "  0.5284639596939087,\n",
       "  0.5168879628181458,\n",
       "  0.5953744053840637,\n",
       "  0.49624884128570557,\n",
       "  0.5002237558364868,\n",
       "  0.5058851838111877,\n",
       "  0.4972614347934723,\n",
       "  0.5089045166969299,\n",
       "  0.5203914642333984,\n",
       "  0.48400408029556274,\n",
       "  0.5248835682868958,\n",
       "  0.5164611339569092,\n",
       "  0.4878927767276764,\n",
       "  0.5395611524581909,\n",
       "  0.5107249617576599,\n",
       "  0.526093602180481,\n",
       "  0.5002284049987793,\n",
       "  0.533140242099762,\n",
       "  0.5227309465408325]}"
      ]
     },
     "execution_count": 77,
     "metadata": {},
     "output_type": "execute_result"
    }
   ],
   "source": [
    "history.history"
   ]
  },
  {
   "cell_type": "code",
   "execution_count": 86,
   "metadata": {
    "collapsed": false
   },
   "outputs": [
    {
     "data": {
      "text/plain": [
       "<tf.Tensor: shape=(1, 1), dtype=float32, numpy=array([[3.5768995]], dtype=float32)>"
      ]
     },
     "execution_count": 86,
     "metadata": {},
     "output_type": "execute_result"
    }
   ],
   "source": [
    "model(tf.expand_dims(tf.convert_to_tensor(train_df.iloc[5][['tokens', 'pos']]), 0))"
   ]
  },
  {
   "cell_type": "code",
   "execution_count": 81,
   "metadata": {
    "collapsed": false
   },
   "outputs": [
    {
     "data": {
      "text/html": [
       "<div>\n",
       "<style scoped>\n",
       "    .dataframe tbody tr th:only-of-type {\n",
       "        vertical-align: middle;\n",
       "    }\n",
       "\n",
       "    .dataframe tbody tr th {\n",
       "        vertical-align: top;\n",
       "    }\n",
       "\n",
       "    .dataframe thead th {\n",
       "        text-align: right;\n",
       "    }\n",
       "</style>\n",
       "<table border=\"1\" class=\"dataframe\">\n",
       "  <thead>\n",
       "    <tr style=\"text-align: right;\">\n",
       "      <th></th>\n",
       "      <th>cohesion</th>\n",
       "      <th>syntax</th>\n",
       "      <th>vocabulary</th>\n",
       "      <th>phraseology</th>\n",
       "      <th>grammar</th>\n",
       "      <th>conventions</th>\n",
       "      <th>pos</th>\n",
       "      <th>tokens</th>\n",
       "    </tr>\n",
       "  </thead>\n",
       "  <tbody>\n",
       "    <tr>\n",
       "      <th>0</th>\n",
       "      <td>3.5</td>\n",
       "      <td>3.5</td>\n",
       "      <td>3.0</td>\n",
       "      <td>3.0</td>\n",
       "      <td>4.0</td>\n",
       "      <td>3.0</td>\n",
       "      <td>NN VBP IN NNS MD VB IN VBG IN NN , IN PRP VBP ...</td>\n",
       "      <td>i think that students would benefit from learn...</td>\n",
       "    </tr>\n",
       "    <tr>\n",
       "      <th>1</th>\n",
       "      <td>2.5</td>\n",
       "      <td>2.5</td>\n",
       "      <td>3.0</td>\n",
       "      <td>2.0</td>\n",
       "      <td>2.0</td>\n",
       "      <td>2.5</td>\n",
       "      <td>WRB DT NN VBZ DT NN PRP VBP TO VB PRP VB DT JJ...</td>\n",
       "      <td>when a problem is a change you have to let it ...</td>\n",
       "    </tr>\n",
       "    <tr>\n",
       "      <th>2</th>\n",
       "      <td>3.0</td>\n",
       "      <td>3.5</td>\n",
       "      <td>3.0</td>\n",
       "      <td>3.0</td>\n",
       "      <td>3.0</td>\n",
       "      <td>2.5</td>\n",
       "      <td>NN , JJ IN JJ VBP DT NN NN IN VBG DT NN NN NN ...</td>\n",
       "      <td>dear , principal if u change the school policy...</td>\n",
       "    </tr>\n",
       "    <tr>\n",
       "      <th>3</th>\n",
       "      <td>4.5</td>\n",
       "      <td>4.5</td>\n",
       "      <td>4.5</td>\n",
       "      <td>4.5</td>\n",
       "      <td>4.0</td>\n",
       "      <td>5.0</td>\n",
       "      <td>DT JJS NN IN NN VBZ WRB PRP VBP PRP . VB VBP I...</td>\n",
       "      <td>the best time in life is when you become yours...</td>\n",
       "    </tr>\n",
       "    <tr>\n",
       "      <th>4</th>\n",
       "      <td>2.5</td>\n",
       "      <td>3.0</td>\n",
       "      <td>3.0</td>\n",
       "      <td>3.0</td>\n",
       "      <td>2.5</td>\n",
       "      <td>2.5</td>\n",
       "      <td>JJ NN IN NN MD VB IN JJ NNS MD VB NNS TO VB JJ...</td>\n",
       "      <td>small act of kindness can impact in other peop...</td>\n",
       "    </tr>\n",
       "  </tbody>\n",
       "</table>\n",
       "</div>"
      ],
      "text/plain": [
       "   cohesion  syntax  vocabulary  phraseology  grammar  conventions  \\\n",
       "0       3.5     3.5         3.0          3.0      4.0          3.0   \n",
       "1       2.5     2.5         3.0          2.0      2.0          2.5   \n",
       "2       3.0     3.5         3.0          3.0      3.0          2.5   \n",
       "3       4.5     4.5         4.5          4.5      4.0          5.0   \n",
       "4       2.5     3.0         3.0          3.0      2.5          2.5   \n",
       "\n",
       "                                                 pos  \\\n",
       "0  NN VBP IN NNS MD VB IN VBG IN NN , IN PRP VBP ...   \n",
       "1  WRB DT NN VBZ DT NN PRP VBP TO VB PRP VB DT JJ...   \n",
       "2  NN , JJ IN JJ VBP DT NN NN IN VBG DT NN NN NN ...   \n",
       "3  DT JJS NN IN NN VBZ WRB PRP VBP PRP . VB VBP I...   \n",
       "4  JJ NN IN NN MD VB IN JJ NNS MD VB NNS TO VB JJ...   \n",
       "\n",
       "                                              tokens  \n",
       "0  i think that students would benefit from learn...  \n",
       "1  when a problem is a change you have to let it ...  \n",
       "2  dear , principal if u change the school policy...  \n",
       "3  the best time in life is when you become yours...  \n",
       "4  small act of kindness can impact in other peop...  "
      ]
     },
     "execution_count": 81,
     "metadata": {},
     "output_type": "execute_result"
    }
   ],
   "source": [
    "train_df.head()"
   ]
  },
  {
   "cell_type": "code",
   "execution_count": 88,
   "metadata": {
    "collapsed": false
   },
   "outputs": [
    {
     "data": {
      "image/png": "[encoded data removed]",
      "text/plain": [
       "<Figure size 640x480 with 1 Axes>"
      ]
     },
     "metadata": {},
     "output_type": "display_data"
    }
   ],
   "source": [
    "plt.plot(history.history['loss'], label='loss')\n",
    "plt.plot(history.history['val_loss'], label='val_loss')\n",
    "plt.xlabel('Epoch')\n",
    "plt.ylabel('Error [MSE]')\n",
    "plt.legend()\n",
    "plt.grid(True)"
   ]
  },
  {
   "cell_type": "code",
   "execution_count": 93,
   "metadata": {
    "collapsed": false
   },
   "outputs": [],
   "source": [
    "import json\n",
    "json.dump(history.history, open(\"history.json\", 'w'))"
   ]
  },
  {
   "attachments": {},
   "cell_type": "markdown",
   "metadata": {},
   "source": [
    "## Syntax Model"
   ]
  },
  {
   "cell_type": "code",
   "execution_count": 1,
   "metadata": {
    "collapsed": false
   },
   "outputs": [
    {
     "ename": "NameError",
     "evalue": "name 'GrammarModel' is not defined",
     "output_type": "error",
     "traceback": [
      "\u001B[0;31m---------------------------------------------------------------------------\u001B[0m",
      "\u001B[0;31mNameError\u001B[0m                                 Traceback (most recent call last)",
      "Cell \u001B[0;32mIn [1], line 1\u001B[0m\n\u001B[0;32m----> 1\u001B[0m \u001B[39mclass\u001B[39;00m \u001B[39mSyntaxModel\u001B[39;00m(GrammarModel):\n\u001B[1;32m      2\u001B[0m     \u001B[39mdef\u001B[39;00m \u001B[39m__init__\u001B[39m(\u001B[39mself\u001B[39m, hidden_size, \u001B[39m*\u001B[39margs, \u001B[39m*\u001B[39m\u001B[39m*\u001B[39mkwargs):\n\u001B[1;32m      3\u001B[0m         \u001B[39msuper\u001B[39m(SyntaxModel, \u001B[39mself\u001B[39m)\u001B[39m.\u001B[39m\u001B[39m__init__\u001B[39m(\u001B[39m*\u001B[39margs, \u001B[39m*\u001B[39m\u001B[39m*\u001B[39mkwargs)\n",
      "\u001B[0;31mNameError\u001B[0m: name 'GrammarModel' is not defined"
     ]
    }
   ],
   "source": [
    "class SyntaxModel(GrammarModel):\n",
    "    def __init__(self, hidden_size, *args, **kwargs):\n",
    "        super(SyntaxModel, self).__init__(*args, **kwargs)\n",
    "        self.inter_dense = tf.keras.layers.Dense(hidden_size, activation='relu')\n",
    "        self.syntax_dense = tf.keras.layers.Dense(1)\n",
    "\n",
    "    def call(self, inputs):\n",
    "        words = inputs[:, 0]\n",
    "        pos = inputs[:, 1]\n",
    "        # combine embeddings\n",
    "        words = self.text_vectorization(words)\n",
    "        pos = self.pos_vectorization(pos)\n",
    "        x = self.EWiDenseLayer((self.word_embedding(words), self.pos_embedding(pos)))\n",
    "        # add positional encoding\n",
    "        x = x * self.pos_scalar\n",
    "        x = x + self.pos_encoding\n",
    "        # dropout\n",
    "        x = self.dropout(x)\n",
    "        # add encoding layers\n",
    "        for i in range(self.num_layers):\n",
    "            x = self.enc_layers[i](x)\n",
    "        x = self.pooling(x)\n",
    "        x = self.layernorm(x)\n",
    "        encoder_out = x #(batch_size, embed_size)\n",
    "        grammar_out = self.dense(x) #(batch_size, 1)\n",
    "        \n",
    "        concatenated = tf.concat((encoder_out, grammar_out), axis=1)\n",
    "        x = self.inter_dense(concatenated)\n",
    "        syntax_out = self.syntax_dense(x)\n",
    "        return tf.concat((grammar_out, syntax_out), axis=1)\n",
    "\n",
    "from utils.lr_scheduler import TransformerScheduler\n",
    "\n",
    "def create_syntax_model():\n",
    "    num_layers = 6\n",
    "    d_model = 64\n",
    "    dff = 256\n",
    "    num_heads = 8\n",
    "    dropout_rate = 0.2\n",
    "    model = SyntaxModel(128, num_layers, d_model, num_heads, dff, max_text_len, np.array(list(text_vocab)), np.array(list(pos_vocab)), dropout_rate)\n",
    "    model.compile(optimizer=tf.keras.optimizers.Adam(learning_rate=TransformerScheduler(1, d_model, 4000), beta_1=0.9, beta_2=0.98, clipnorm=1), loss=MCRMSE, metrics=MCRMSE, run_eagerly=True)\n",
    "    return model"
   ]
  },
  {
   "cell_type": "code",
   "execution_count": 92,
   "metadata": {
    "collapsed": false
   },
   "outputs": [
    {
     "ename": "NameError",
     "evalue": "name 'test' is not defined",
     "output_type": "error",
     "traceback": [
      "\u001B[1;31m---------------------------------------------------------------------------\u001B[0m",
      "\u001B[1;31mNameError\u001B[0m                                 Traceback (most recent call last)",
      "\u001B[1;32m~\\AppData\\Local\\Temp/ipykernel_1736/2074824509.py\u001B[0m in \u001B[0;36m<module>\u001B[1;34m\u001B[0m\n\u001B[1;32m----> 1\u001B[1;33m \u001B[0mtest\u001B[0m\u001B[1;33m\u001B[0m\u001B[1;33m\u001B[0m\u001B[0m\n\u001B[0m",
      "\u001B[1;31mNameError\u001B[0m: name 'test' is not defined"
     ]
    }
   ],
   "source": [
    "syntax_model = create_syntax_model()\n",
    "syntax_model(tf.expand_dims(tf.convert_to_tensor(train_df.iloc[0][['tokens', 'pos']]), 0))\n",
    "syntax_model.summary()"
   ]
  },
  {
   "cell_type": "code",
   "execution_count": null,
   "metadata": {
    "collapsed": false
   },
   "outputs": [],
   "source": [
    "batch_size = 4\n",
    "deez_nuts = syntax_model.fit(\n",
    "    train_df[['tokens', 'pos']],\n",
    "    train_df[['grammar', 'syntax']],\n",
    "    validation_data = (valid_df[['tokens', 'pos']], valid_df[['grammar', 'syntax']]),\n",
    "    steps_per_epoch= train_df.shape[0]//batch_size,\n",
    "    batch_size = batch_size,\n",
    "    epochs= 1,\n",
    "    verbose = 1,\n",
    "    shuffle= True,\n",
    ")"
   ]
  }
 ],
 "metadata": {
  "kernelspec": {
   "display_name": "cs1470",
   "language": "python",
   "name": "python3"
  },
  "language_info": {
   "codemirror_mode": {
    "name": "ipython",
    "version": 3
   },
   "file_extension": ".py",
   "mimetype": "text/x-python",
   "name": "python",
   "nbconvert_exporter": "python",
   "pygments_lexer": "ipython3",
   "version": "3.9.13"
  },
  "vscode": {
   "interpreter": {
    "hash": "5d7a279b3fb804aa2a488e25e21d217aa4e6f910ce24c7abf709fdf3600e70da"
   }
  }
 },
 "nbformat": 4,
 "nbformat_minor": 0
}
