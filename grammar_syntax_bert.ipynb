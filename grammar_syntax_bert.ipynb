{
 "metadata": {
  "kernelspec": {
   "name": "python3",
   "display_name": "Python 3",
   "language": "python"
  },
  "language_info": {
   "name": "python",
   "version": "3.7.12",
   "mimetype": "text/x-python",
   "codemirror_mode": {
    "name": "ipython",
    "version": 3
   },
   "pygments_lexer": "ipython3",
   "nbconvert_exporter": "python",
   "file_extension": ".py"
  },
  "vscode": {
   "interpreter": {
    "hash": "5d7a279b3fb804aa2a488e25e21d217aa4e6f910ce24c7abf709fdf3600e70da"
   }
  }
 },
 "nbformat_minor": 4,
 "nbformat": 4,
 "cells": [
  {
   "cell_type": "code",
   "source": [
    "import numpy as np\n",
    "import pandas as pd\n",
    "import os\n",
    "for dirname, _, filenames in os.walk('/kaggle/input'):\n",
    "    for filename in filenames:\n",
    "        print(os.path.join(dirname, filename))\n",
    "\n",
    "import string\n",
    "from nltk.corpus import stopwords\n",
    "PUNCT_TO_REMOVE = string.punctuation\n",
    "STOPWORDS = set(stopwords.words('english'))\n",
    "from nltk.stem import PorterStemmer\n",
    "from nltk.stem import WordNetLemmatizer\n",
    "from nltk import pos_tag, word_tokenize\n",
    "from nltk.data import load\n",
    "import re\n",
    "\n",
    "import tensorflow as tf\n",
    "#from transformer import positional_encoding, EncoderLayer\n",
    "# from tensorflow.keras.callbacks import EarlyStopping\n",
    "from transformers import BertTokenizer , TFBertModel\n",
    "AUTO = tf.data.experimental.AUTOTUNE"
   ],
   "metadata": {
    "execution": {
     "iopub.status.busy": "2022-12-09T15:28:03.583278Z",
     "iopub.execute_input": "2022-12-09T15:28:03.584257Z",
     "iopub.status.idle": "2022-12-09T15:28:18.378876Z",
     "shell.execute_reply.started": "2022-12-09T15:28:03.584149Z",
     "shell.execute_reply": "2022-12-09T15:28:18.377847Z"
    },
    "trusted": true
   },
   "execution_count": 1,
   "outputs": [
    {
     "name": "stdout",
     "text": "/kaggle/input/feedback-prize-english-language-learning/sample_submission.csv\n/kaggle/input/feedback-prize-english-language-learning/train.csv\n/kaggle/input/feedback-prize-english-language-learning/test.csv\n/kaggle/input/huggingface-bert-variants/bert-large-uncased/bert-large-uncased/config.json\n/kaggle/input/huggingface-bert-variants/bert-large-uncased/bert-large-uncased/tokenizer.json\n/kaggle/input/huggingface-bert-variants/bert-large-uncased/bert-large-uncased/tf_model.h5\n/kaggle/input/huggingface-bert-variants/bert-large-uncased/bert-large-uncased/tokenizer_config.json\n/kaggle/input/huggingface-bert-variants/bert-large-uncased/bert-large-uncased/pytorch_model.bin\n/kaggle/input/huggingface-bert-variants/bert-large-uncased/bert-large-uncased/vocab.txt\n/kaggle/input/huggingface-bert-variants/bert-large-uncased/bert-large-uncased/flax_model.msgpack\n/kaggle/input/huggingface-bert-variants/bert-large-uncased/bert-large-uncased/whole-word-masking/._bert_config.json\n/kaggle/input/huggingface-bert-variants/bert-large-uncased/bert-large-uncased/whole-word-masking/bert_config.json\n/kaggle/input/huggingface-bert-variants/bert-large-uncased/bert-large-uncased/whole-word-masking/pytorch_model.bin\n/kaggle/input/huggingface-bert-variants/distilbert-base-uncased-distilled-squad/distilbert-base-uncased-distilled-squad/384-8bits.tflite\n/kaggle/input/huggingface-bert-variants/distilbert-base-uncased-distilled-squad/distilbert-base-uncased-distilled-squad/config.json\n/kaggle/input/huggingface-bert-variants/distilbert-base-uncased-distilled-squad/distilbert-base-uncased-distilled-squad/tokenizer.json\n/kaggle/input/huggingface-bert-variants/distilbert-base-uncased-distilled-squad/distilbert-base-uncased-distilled-squad/tf_model.h5\n/kaggle/input/huggingface-bert-variants/distilbert-base-uncased-distilled-squad/distilbert-base-uncased-distilled-squad/384-fp16.tflite\n/kaggle/input/huggingface-bert-variants/distilbert-base-uncased-distilled-squad/distilbert-base-uncased-distilled-squad/tokenizer_config.json\n/kaggle/input/huggingface-bert-variants/distilbert-base-uncased-distilled-squad/distilbert-base-uncased-distilled-squad/pytorch_model.bin\n/kaggle/input/huggingface-bert-variants/distilbert-base-uncased-distilled-squad/distilbert-base-uncased-distilled-squad/vocab.txt\n/kaggle/input/huggingface-bert-variants/distilbert-base-uncased-distilled-squad/distilbert-base-uncased-distilled-squad/384.tflite\n/kaggle/input/huggingface-bert-variants/distilbert-base-uncased-distilled-squad/distilbert-base-uncased-distilled-squad/saved_model/saved_model.pb\n/kaggle/input/huggingface-bert-variants/distilbert-base-uncased-distilled-squad/distilbert-base-uncased-distilled-squad/saved_model/._variables\n/kaggle/input/huggingface-bert-variants/distilbert-base-uncased-distilled-squad/distilbert-base-uncased-distilled-squad/saved_model/._assets\n/kaggle/input/huggingface-bert-variants/distilbert-base-uncased-distilled-squad/distilbert-base-uncased-distilled-squad/saved_model/._saved_model.pb\n/kaggle/input/huggingface-bert-variants/distilbert-base-uncased-distilled-squad/distilbert-base-uncased-distilled-squad/saved_model/._.\n/kaggle/input/huggingface-bert-variants/distilbert-base-uncased-distilled-squad/distilbert-base-uncased-distilled-squad/saved_model/variables/variables.index\n/kaggle/input/huggingface-bert-variants/distilbert-base-uncased-distilled-squad/distilbert-base-uncased-distilled-squad/saved_model/variables/._variables.index\n/kaggle/input/huggingface-bert-variants/distilbert-base-uncased-distilled-squad/distilbert-base-uncased-distilled-squad/saved_model/variables/._variables.data-00000-of-00001\n/kaggle/input/huggingface-bert-variants/distilbert-base-uncased-distilled-squad/distilbert-base-uncased-distilled-squad/saved_model/variables/variables.data-00000-of-00001\n/kaggle/input/huggingface-bert-variants/distilbert-base-uncased-distilled-squad/distilbert-base-uncased-distilled-squad/saved_model/PaxHeader/assets\n/kaggle/input/huggingface-bert-variants/distilbert-base-uncased-distilled-squad/distilbert-base-uncased-distilled-squad/saved_model/PaxHeader/variables\n/kaggle/input/huggingface-bert-variants/distilbert-base-uncased-distilled-squad/distilbert-base-uncased-distilled-squad/saved_model/PaxHeader/currentdir\n/kaggle/input/huggingface-bert-variants/bert-large-cased/bert-large-cased/config.json\n/kaggle/input/huggingface-bert-variants/bert-large-cased/bert-large-cased/tokenizer.json\n/kaggle/input/huggingface-bert-variants/bert-large-cased/bert-large-cased/tf_model.h5\n/kaggle/input/huggingface-bert-variants/bert-large-cased/bert-large-cased/tokenizer_config.json\n/kaggle/input/huggingface-bert-variants/bert-large-cased/bert-large-cased/pytorch_model.bin\n/kaggle/input/huggingface-bert-variants/bert-large-cased/bert-large-cased/vocab.txt\n/kaggle/input/huggingface-bert-variants/bert-large-cased/bert-large-cased/flax_model.msgpack\n/kaggle/input/huggingface-bert-variants/bert-large-cased/bert-large-cased/whole-word-masking/._bert_config.json\n/kaggle/input/huggingface-bert-variants/bert-large-cased/bert-large-cased/whole-word-masking/bert_config.json\n/kaggle/input/huggingface-bert-variants/bert-large-cased/bert-large-cased/whole-word-masking/pytorch_model.bin\n/kaggle/input/huggingface-bert-variants/bert-base-cased/bert-base-cased/config.json\n/kaggle/input/huggingface-bert-variants/bert-base-cased/bert-base-cased/tokenizer.json\n/kaggle/input/huggingface-bert-variants/bert-base-cased/bert-base-cased/tf_model.h5\n/kaggle/input/huggingface-bert-variants/bert-base-cased/bert-base-cased/tokenizer_config.json\n/kaggle/input/huggingface-bert-variants/bert-base-cased/bert-base-cased/pytorch_model.bin\n/kaggle/input/huggingface-bert-variants/bert-base-cased/bert-base-cased/vocab.txt\n/kaggle/input/huggingface-bert-variants/bert-base-cased/bert-base-cased/flax_model.msgpack\n/kaggle/input/huggingface-bert-variants/distilbert-base-uncased/distilbert-base-uncased/rust_model.ot\n/kaggle/input/huggingface-bert-variants/distilbert-base-uncased/distilbert-base-uncased/config.json\n/kaggle/input/huggingface-bert-variants/distilbert-base-uncased/distilbert-base-uncased/tokenizer.json\n/kaggle/input/huggingface-bert-variants/distilbert-base-uncased/distilbert-base-uncased/tf_model.h5\n/kaggle/input/huggingface-bert-variants/distilbert-base-uncased/distilbert-base-uncased/tokenizer_config.json\n/kaggle/input/huggingface-bert-variants/distilbert-base-uncased/distilbert-base-uncased/pytorch_model.bin\n/kaggle/input/huggingface-bert-variants/distilbert-base-uncased/distilbert-base-uncased/vocab.txt\n/kaggle/input/huggingface-bert-variants/distilbert-base-multilingual-cased/distilbert-base-multilingual-cased/config.json\n/kaggle/input/huggingface-bert-variants/distilbert-base-multilingual-cased/distilbert-base-multilingual-cased/tokenizer.json\n/kaggle/input/huggingface-bert-variants/distilbert-base-multilingual-cased/distilbert-base-multilingual-cased/tf_model.h5\n/kaggle/input/huggingface-bert-variants/distilbert-base-multilingual-cased/distilbert-base-multilingual-cased/tokenizer_config.json\n/kaggle/input/huggingface-bert-variants/distilbert-base-multilingual-cased/distilbert-base-multilingual-cased/pytorch_model.bin\n/kaggle/input/huggingface-bert-variants/distilbert-base-multilingual-cased/distilbert-base-multilingual-cased/vocab.txt\n/kaggle/input/huggingface-bert-variants/bert-base-uncased/bert-base-uncased/rust_model.ot\n/kaggle/input/huggingface-bert-variants/bert-base-uncased/bert-base-uncased/config.json\n/kaggle/input/huggingface-bert-variants/bert-base-uncased/bert-base-uncased/tokenizer.json\n/kaggle/input/huggingface-bert-variants/bert-base-uncased/bert-base-uncased/tf_model.h5\n/kaggle/input/huggingface-bert-variants/bert-base-uncased/bert-base-uncased/tokenizer_config.json\n/kaggle/input/huggingface-bert-variants/bert-base-uncased/bert-base-uncased/pytorch_model.bin\n/kaggle/input/huggingface-bert-variants/bert-base-uncased/bert-base-uncased/vocab.txt\n/kaggle/input/huggingface-bert-variants/bert-base-uncased/bert-base-uncased/flax_model.msgpack\n/kaggle/input/huggingface-bert-variants/distilbert-base-cased-distilled-squad/distilbert-base-cased-distilled-squad/rust_model.ot\n/kaggle/input/huggingface-bert-variants/distilbert-base-cased-distilled-squad/distilbert-base-cased-distilled-squad/config.json\n/kaggle/input/huggingface-bert-variants/distilbert-base-cased-distilled-squad/distilbert-base-cased-distilled-squad/tokenizer.json\n/kaggle/input/huggingface-bert-variants/distilbert-base-cased-distilled-squad/distilbert-base-cased-distilled-squad/tf_model.h5\n/kaggle/input/huggingface-bert-variants/distilbert-base-cased-distilled-squad/distilbert-base-cased-distilled-squad/tokenizer_config.json\n/kaggle/input/huggingface-bert-variants/distilbert-base-cased-distilled-squad/distilbert-base-cased-distilled-squad/pytorch_model.bin\n/kaggle/input/huggingface-bert-variants/distilbert-base-cased-distilled-squad/distilbert-base-cased-distilled-squad/vocab.txt\n/kaggle/input/huggingface-bert-variants/distilbert-base-cased-distilled-squad/distilbert-base-cased-distilled-squad/saved_model/saved_model.pb\n/kaggle/input/huggingface-bert-variants/distilbert-base-cased-distilled-squad/distilbert-base-cased-distilled-squad/saved_model/variables/variables.index\n/kaggle/input/huggingface-bert-variants/distilbert-base-cased-distilled-squad/distilbert-base-cased-distilled-squad/saved_model/variables/variables.data-00000-of-00001\n/kaggle/input/huggingface-bert-variants/distilbert-base-cased-distilled-squad/distilbert-base-cased-distilled-squad/tfjs/group1-shard10of63.bin\n/kaggle/input/huggingface-bert-variants/distilbert-base-cased-distilled-squad/distilbert-base-cased-distilled-squad/tfjs/group1-shard40of63.bin\n/kaggle/input/huggingface-bert-variants/distilbert-base-cased-distilled-squad/distilbert-base-cased-distilled-squad/tfjs/group1-shard2of63.bin\n/kaggle/input/huggingface-bert-variants/distilbert-base-cased-distilled-squad/distilbert-base-cased-distilled-squad/tfjs/group1-shard4of63.bin\n/kaggle/input/huggingface-bert-variants/distilbert-base-cased-distilled-squad/distilbert-base-cased-distilled-squad/tfjs/group1-shard57of63.bin\n/kaggle/input/huggingface-bert-variants/distilbert-base-cased-distilled-squad/distilbert-base-cased-distilled-squad/tfjs/group1-shard48of63.bin\n/kaggle/input/huggingface-bert-variants/distilbert-base-cased-distilled-squad/distilbert-base-cased-distilled-squad/tfjs/group1-shard23of63.bin\n/kaggle/input/huggingface-bert-variants/distilbert-base-cased-distilled-squad/distilbert-base-cased-distilled-squad/tfjs/group1-shard22of63.bin\n/kaggle/input/huggingface-bert-variants/distilbert-base-cased-distilled-squad/distilbert-base-cased-distilled-squad/tfjs/group1-shard45of63.bin\n/kaggle/input/huggingface-bert-variants/distilbert-base-cased-distilled-squad/distilbert-base-cased-distilled-squad/tfjs/group1-shard19of63.bin\n/kaggle/input/huggingface-bert-variants/distilbert-base-cased-distilled-squad/distilbert-base-cased-distilled-squad/tfjs/group1-shard39of63.bin\n/kaggle/input/huggingface-bert-variants/distilbert-base-cased-distilled-squad/distilbert-base-cased-distilled-squad/tfjs/group1-shard38of63.bin\n/kaggle/input/huggingface-bert-variants/distilbert-base-cased-distilled-squad/distilbert-base-cased-distilled-squad/tfjs/group1-shard56of63.bin\n/kaggle/input/huggingface-bert-variants/distilbert-base-cased-distilled-squad/distilbert-base-cased-distilled-squad/tfjs/group1-shard41of63.bin\n/kaggle/input/huggingface-bert-variants/distilbert-base-cased-distilled-squad/distilbert-base-cased-distilled-squad/tfjs/group1-shard55of63.bin\n/kaggle/input/huggingface-bert-variants/distilbert-base-cased-distilled-squad/distilbert-base-cased-distilled-squad/tfjs/group1-shard32of63.bin\n/kaggle/input/huggingface-bert-variants/distilbert-base-cased-distilled-squad/distilbert-base-cased-distilled-squad/tfjs/group1-shard15of63.bin\n/kaggle/input/huggingface-bert-variants/distilbert-base-cased-distilled-squad/distilbert-base-cased-distilled-squad/tfjs/group1-shard16of63.bin\n/kaggle/input/huggingface-bert-variants/distilbert-base-cased-distilled-squad/distilbert-base-cased-distilled-squad/tfjs/group1-shard17of63.bin\n/kaggle/input/huggingface-bert-variants/distilbert-base-cased-distilled-squad/distilbert-base-cased-distilled-squad/tfjs/group1-shard36of63.bin\n/kaggle/input/huggingface-bert-variants/distilbert-base-cased-distilled-squad/distilbert-base-cased-distilled-squad/tfjs/group1-shard18of63.bin\n/kaggle/input/huggingface-bert-variants/distilbert-base-cased-distilled-squad/distilbert-base-cased-distilled-squad/tfjs/group1-shard27of63.bin\n/kaggle/input/huggingface-bert-variants/distilbert-base-cased-distilled-squad/distilbert-base-cased-distilled-squad/tfjs/group1-shard58of63.bin\n/kaggle/input/huggingface-bert-variants/distilbert-base-cased-distilled-squad/distilbert-base-cased-distilled-squad/tfjs/group1-shard6of63.bin\n/kaggle/input/huggingface-bert-variants/distilbert-base-cased-distilled-squad/distilbert-base-cased-distilled-squad/tfjs/group1-shard61of63.bin\n/kaggle/input/huggingface-bert-variants/distilbert-base-cased-distilled-squad/distilbert-base-cased-distilled-squad/tfjs/group1-shard53of63.bin\n/kaggle/input/huggingface-bert-variants/distilbert-base-cased-distilled-squad/distilbert-base-cased-distilled-squad/tfjs/group1-shard14of63.bin\n/kaggle/input/huggingface-bert-variants/distilbert-base-cased-distilled-squad/distilbert-base-cased-distilled-squad/tfjs/group1-shard46of63.bin\n/kaggle/input/huggingface-bert-variants/distilbert-base-cased-distilled-squad/distilbert-base-cased-distilled-squad/tfjs/group1-shard33of63.bin\n/kaggle/input/huggingface-bert-variants/distilbert-base-cased-distilled-squad/distilbert-base-cased-distilled-squad/tfjs/group1-shard62of63.bin\n/kaggle/input/huggingface-bert-variants/distilbert-base-cased-distilled-squad/distilbert-base-cased-distilled-squad/tfjs/group1-shard47of63.bin\n/kaggle/input/huggingface-bert-variants/distilbert-base-cased-distilled-squad/distilbert-base-cased-distilled-squad/tfjs/group1-shard54of63.bin\n/kaggle/input/huggingface-bert-variants/distilbert-base-cased-distilled-squad/distilbert-base-cased-distilled-squad/tfjs/group1-shard63of63.bin\n/kaggle/input/huggingface-bert-variants/distilbert-base-cased-distilled-squad/distilbert-base-cased-distilled-squad/tfjs/group1-shard12of63.bin\n/kaggle/input/huggingface-bert-variants/distilbert-base-cased-distilled-squad/distilbert-base-cased-distilled-squad/tfjs/group1-shard8of63.bin\n/kaggle/input/huggingface-bert-variants/distilbert-base-cased-distilled-squad/distilbert-base-cased-distilled-squad/tfjs/group1-shard43of63.bin\n/kaggle/input/huggingface-bert-variants/distilbert-base-cased-distilled-squad/distilbert-base-cased-distilled-squad/tfjs/group1-shard59of63.bin\n/kaggle/input/huggingface-bert-variants/distilbert-base-cased-distilled-squad/distilbert-base-cased-distilled-squad/tfjs/group1-shard13of63.bin\n/kaggle/input/huggingface-bert-variants/distilbert-base-cased-distilled-squad/distilbert-base-cased-distilled-squad/tfjs/group1-shard30of63.bin\n/kaggle/input/huggingface-bert-variants/distilbert-base-cased-distilled-squad/distilbert-base-cased-distilled-squad/tfjs/group1-shard25of63.bin\n/kaggle/input/huggingface-bert-variants/distilbert-base-cased-distilled-squad/distilbert-base-cased-distilled-squad/tfjs/group1-shard1of63.bin\n/kaggle/input/huggingface-bert-variants/distilbert-base-cased-distilled-squad/distilbert-base-cased-distilled-squad/tfjs/group1-shard51of63.bin\n/kaggle/input/huggingface-bert-variants/distilbert-base-cased-distilled-squad/distilbert-base-cased-distilled-squad/tfjs/group1-shard42of63.bin\n/kaggle/input/huggingface-bert-variants/distilbert-base-cased-distilled-squad/distilbert-base-cased-distilled-squad/tfjs/group1-shard7of63.bin\n/kaggle/input/huggingface-bert-variants/distilbert-base-cased-distilled-squad/distilbert-base-cased-distilled-squad/tfjs/group1-shard9of63.bin\n/kaggle/input/huggingface-bert-variants/distilbert-base-cased-distilled-squad/distilbert-base-cased-distilled-squad/tfjs/group1-shard49of63.bin\n/kaggle/input/huggingface-bert-variants/distilbert-base-cased-distilled-squad/distilbert-base-cased-distilled-squad/tfjs/model.json\n/kaggle/input/huggingface-bert-variants/distilbert-base-cased-distilled-squad/distilbert-base-cased-distilled-squad/tfjs/group1-shard21of63.bin\n/kaggle/input/huggingface-bert-variants/distilbert-base-cased-distilled-squad/distilbert-base-cased-distilled-squad/tfjs/group1-shard34of63.bin\n/kaggle/input/huggingface-bert-variants/distilbert-base-cased-distilled-squad/distilbert-base-cased-distilled-squad/tfjs/group1-shard3of63.bin\n/kaggle/input/huggingface-bert-variants/distilbert-base-cased-distilled-squad/distilbert-base-cased-distilled-squad/tfjs/group1-shard24of63.bin\n/kaggle/input/huggingface-bert-variants/distilbert-base-cased-distilled-squad/distilbert-base-cased-distilled-squad/tfjs/group1-shard28of63.bin\n/kaggle/input/huggingface-bert-variants/distilbert-base-cased-distilled-squad/distilbert-base-cased-distilled-squad/tfjs/group1-shard31of63.bin\n/kaggle/input/huggingface-bert-variants/distilbert-base-cased-distilled-squad/distilbert-base-cased-distilled-squad/tfjs/group1-shard35of63.bin\n/kaggle/input/huggingface-bert-variants/distilbert-base-cased-distilled-squad/distilbert-base-cased-distilled-squad/tfjs/group1-shard5of63.bin\n/kaggle/input/huggingface-bert-variants/distilbert-base-cased-distilled-squad/distilbert-base-cased-distilled-squad/tfjs/group1-shard20of63.bin\n/kaggle/input/huggingface-bert-variants/distilbert-base-cased-distilled-squad/distilbert-base-cased-distilled-squad/tfjs/group1-shard26of63.bin\n/kaggle/input/huggingface-bert-variants/distilbert-base-cased-distilled-squad/distilbert-base-cased-distilled-squad/tfjs/group1-shard50of63.bin\n/kaggle/input/huggingface-bert-variants/distilbert-base-cased-distilled-squad/distilbert-base-cased-distilled-squad/tfjs/group1-shard29of63.bin\n/kaggle/input/huggingface-bert-variants/distilbert-base-cased-distilled-squad/distilbert-base-cased-distilled-squad/tfjs/group1-shard44of63.bin\n/kaggle/input/huggingface-bert-variants/distilbert-base-cased-distilled-squad/distilbert-base-cased-distilled-squad/tfjs/group1-shard11of63.bin\n/kaggle/input/huggingface-bert-variants/distilbert-base-cased-distilled-squad/distilbert-base-cased-distilled-squad/tfjs/group1-shard37of63.bin\n/kaggle/input/huggingface-bert-variants/distilbert-base-cased-distilled-squad/distilbert-base-cased-distilled-squad/tfjs/group1-shard52of63.bin\n/kaggle/input/huggingface-bert-variants/distilbert-base-cased-distilled-squad/distilbert-base-cased-distilled-squad/tfjs/group1-shard60of63.bin\n/kaggle/input/huggingface-bert-variants/distilbert-base-cased/distilbert-base-cased/config.json\n/kaggle/input/huggingface-bert-variants/distilbert-base-cased/distilbert-base-cased/tokenizer.json\n/kaggle/input/huggingface-bert-variants/distilbert-base-cased/distilbert-base-cased/tf_model.h5\n/kaggle/input/huggingface-bert-variants/distilbert-base-cased/distilbert-base-cased/tokenizer_config.json\n/kaggle/input/huggingface-bert-variants/distilbert-base-cased/distilbert-base-cased/pytorch_model.bin\n/kaggle/input/huggingface-bert-variants/distilbert-base-cased/distilbert-base-cased/vocab.txt\n",
     "output_type": "stream"
    },
    {
     "name": "stderr",
     "text": "2022-12-09 15:28:13.334787: I tensorflow/stream_executor/cuda/cuda_gpu_executor.cc:937] successful NUMA node read from SysFS had negative value (-1), but there must be at least one NUMA node, so returning NUMA node zero\n2022-12-09 15:28:13.336028: I tensorflow/stream_executor/cuda/cuda_gpu_executor.cc:937] successful NUMA node read from SysFS had negative value (-1), but there must be at least one NUMA node, so returning NUMA node zero\n2022-12-09 15:28:13.336764: I tensorflow/stream_executor/cuda/cuda_gpu_executor.cc:937] successful NUMA node read from SysFS had negative value (-1), but there must be at least one NUMA node, so returning NUMA node zero\n2022-12-09 15:28:13.338652: I tensorflow/core/platform/cpu_feature_guard.cc:142] This TensorFlow binary is optimized with oneAPI Deep Neural Network Library (oneDNN) to use the following CPU instructions in performance-critical operations:  AVX2 AVX512F FMA\nTo enable them in other operations, rebuild TensorFlow with the appropriate compiler flags.\n2022-12-09 15:28:13.338970: I tensorflow/stream_executor/cuda/cuda_gpu_executor.cc:937] successful NUMA node read from SysFS had negative value (-1), but there must be at least one NUMA node, so returning NUMA node zero\n2022-12-09 15:28:13.339664: I tensorflow/stream_executor/cuda/cuda_gpu_executor.cc:937] successful NUMA node read from SysFS had negative value (-1), but there must be at least one NUMA node, so returning NUMA node zero\n2022-12-09 15:28:13.340334: I tensorflow/stream_executor/cuda/cuda_gpu_executor.cc:937] successful NUMA node read from SysFS had negative value (-1), but there must be at least one NUMA node, so returning NUMA node zero\n2022-12-09 15:28:17.998530: I tensorflow/stream_executor/cuda/cuda_gpu_executor.cc:937] successful NUMA node read from SysFS had negative value (-1), but there must be at least one NUMA node, so returning NUMA node zero\n2022-12-09 15:28:17.999403: I tensorflow/stream_executor/cuda/cuda_gpu_executor.cc:937] successful NUMA node read from SysFS had negative value (-1), but there must be at least one NUMA node, so returning NUMA node zero\n2022-12-09 15:28:18.000089: I tensorflow/stream_executor/cuda/cuda_gpu_executor.cc:937] successful NUMA node read from SysFS had negative value (-1), but there must be at least one NUMA node, so returning NUMA node zero\n2022-12-09 15:28:18.000712: I tensorflow/core/common_runtime/gpu/gpu_device.cc:1510] Created device /job:localhost/replica:0/task:0/device:GPU:0 with 15043 MB memory:  -> device: 0, name: Tesla P100-PCIE-16GB, pci bus id: 0000:00:04.0, compute capability: 6.0\n",
     "output_type": "stream"
    }
   ]
  },
  {
   "cell_type": "code",
   "source": [
    "import numpy as np\n",
    "import tensorflow as tf\n",
    "\n",
    "\n",
    "# adapted from https://www.tensorflow.org/text/tutorials/transformer\n",
    "\n",
    "class FeedForward(tf.keras.layers.Layer):\n",
    "    def __init__(self, d_model, dff, dropout_rate=0.1):\n",
    "        super().__init__()\n",
    "        self.seq = tf.keras.Sequential([\n",
    "            tf.keras.layers.Dense(dff, activation='relu'),\n",
    "            tf.keras.layers.Dense(d_model),\n",
    "            tf.keras.layers.Dropout(dropout_rate)\n",
    "        ])\n",
    "        self.add = tf.keras.layers.Add()\n",
    "        self.layer_norm = tf.keras.layers.LayerNormalization()\n",
    "\n",
    "    def call(self, x):\n",
    "        x = self.add([x, self.seq(x)])\n",
    "        x = self.layer_norm(x)\n",
    "        return x\n",
    "\n",
    "\n",
    "def positional_encoding(length, depth):\n",
    "    depth = depth / 2\n",
    "\n",
    "    positions = np.arange(length)[:, np.newaxis]  # (seq, 1)\n",
    "    depths = np.arange(depth)[np.newaxis, :] / depth  # (1, depth)\n",
    "\n",
    "    angle_rates = 1 / (10000 ** depths)  # (1, depth)\n",
    "    angle_rads = positions * angle_rates  # (pos, depth)\n",
    "\n",
    "    pos_encoding = np.concatenate(\n",
    "        [np.sin(angle_rads), np.cos(angle_rads)],\n",
    "        axis=-1)\n",
    "\n",
    "    return tf.cast(pos_encoding, dtype=tf.float32)\n",
    "\n",
    "\n",
    "class PositionalEmbedding(tf.keras.layers.Layer):\n",
    "    def __init__(self, vocab_size, d_model):\n",
    "        super().__init__()\n",
    "        self.d_model = d_model\n",
    "        self.embedding = tf.keras.layers.Embedding(vocab_size, d_model, mask_zero=True)\n",
    "        self.pos_encoding = positional_encoding(length=2048, depth=d_model)\n",
    "\n",
    "    def compute_mask(self, *args, **kwargs):\n",
    "        return self.embedding.compute_mask(*args, **kwargs)\n",
    "\n",
    "    def call(self, x):\n",
    "        length = tf.shape(x)[1]\n",
    "        x = self.embedding(x)\n",
    "        # This factor sets the relative scale of the embedding and positonal_encoding.\n",
    "        x *= tf.math.sqrt(tf.cast(self.d_model, tf.float32))\n",
    "        x = x + self.pos_encoding[tf.newaxis, :length, :]\n",
    "        return x\n",
    "\n",
    "\n",
    "class BaseAttention(tf.keras.layers.Layer):\n",
    "    def __init__(self, **kwargs):\n",
    "        super().__init__()\n",
    "        self.mha = tf.keras.layers.MultiHeadAttention(**kwargs)\n",
    "        self.layernorm = tf.keras.layers.LayerNormalization()\n",
    "        self.add = tf.keras.layers.Add()\n",
    "\n",
    "\n",
    "class GlobalSelfAttention(BaseAttention):\n",
    "    def call(self, x):\n",
    "        attn_output = self.mha(\n",
    "            query=x,\n",
    "            value=x,\n",
    "            key=x)\n",
    "        x = self.add([x, attn_output])\n",
    "        x = self.layernorm(x)\n",
    "        return x\n",
    "\n",
    "\n",
    "class EncoderLayer(tf.keras.layers.Layer):\n",
    "    def __init__(self, *, d_model, num_heads, dff, dropout_rate=0.1):\n",
    "        super().__init__()\n",
    "\n",
    "        self.self_attention = GlobalSelfAttention(\n",
    "            num_heads=num_heads,\n",
    "            key_dim=d_model,\n",
    "            dropout=dropout_rate)\n",
    "\n",
    "        self.ffn = FeedForward(d_model, dff)\n",
    "\n",
    "    def call(self, x):\n",
    "        x = self.self_attention(x)\n",
    "        x = self.ffn(x)\n",
    "        return x\n",
    "\n",
    "\n",
    "class Encoder(tf.keras.layers.Layer):\n",
    "    def __init__(self, *, num_layers, d_model, num_heads,\n",
    "                 dff, vocab_size, dropout_rate=0.1):\n",
    "        super().__init__()\n",
    "\n",
    "        self.d_model = d_model\n",
    "        self.num_layers = num_layers\n",
    "\n",
    "        self.pos_embedding = PositionalEmbedding(\n",
    "            vocab_size=vocab_size, d_model=d_model)\n",
    "\n",
    "        self.enc_layers = [\n",
    "            EncoderLayer(d_model=d_model,\n",
    "                         num_heads=num_heads,\n",
    "                         dff=dff,\n",
    "                         dropout_rate=dropout_rate)\n",
    "            for _ in range(num_layers)]\n",
    "        self.dropout = tf.keras.layers.Dropout(dropout_rate)\n",
    "\n",
    "    def call(self, x):\n",
    "        # `x` is token-IDs shape: (batch, seq_len)\n",
    "        x = self.pos_embedding(x)  # Shape `(batch_size, seq_len, d_model)`.\n",
    "\n",
    "        # Add dropout.\n",
    "        x = self.dropout(x)\n",
    "\n",
    "        for i in range(self.num_layers):\n",
    "            x = self.enc_layers[i](x)\n",
    "\n",
    "        return x  # Shape `(batch_size, seq_len, d_model)`.\n"
   ],
   "metadata": {
    "execution": {
     "iopub.status.busy": "2022-12-09T15:28:28.107360Z",
     "iopub.execute_input": "2022-12-09T15:28:28.107998Z",
     "iopub.status.idle": "2022-12-09T15:28:28.131883Z",
     "shell.execute_reply.started": "2022-12-09T15:28:28.107961Z",
     "shell.execute_reply": "2022-12-09T15:28:28.130678Z"
    },
    "trusted": true
   },
   "execution_count": 2,
   "outputs": []
  },
  {
   "cell_type": "code",
   "source": [
    "data_dir = \"/kaggle/input/\"\n",
    "bert_dir = \"/kaggle/input/huggingface-bert-variants/bert-base-uncased/\"\n",
    "train_df = pd.read_csv(data_dir + 'feedback-prize-english-language-learning/train.csv')\n",
    "test_df = pd.read_csv(data_dir + 'feedback-prize-english-language-learning/test.csv')\n",
    "sample_df = pd.read_csv(data_dir + 'feedback-prize-english-language-learning/sample_submission.csv')\n",
    "bert_path = bert_dir + 'bert-base-uncased'\n",
    "print(train_df.shape, test_df.shape, sample_df.shape)"
   ],
   "metadata": {
    "collapsed": false,
    "jupyter": {
     "outputs_hidden": false
    },
    "execution": {
     "iopub.status.busy": "2022-12-09T15:28:28.707609Z",
     "iopub.execute_input": "2022-12-09T15:28:28.708269Z",
     "iopub.status.idle": "2022-12-09T15:28:28.967157Z",
     "shell.execute_reply.started": "2022-12-09T15:28:28.708234Z",
     "shell.execute_reply": "2022-12-09T15:28:28.966104Z"
    },
    "trusted": true
   },
   "execution_count": 3,
   "outputs": [
    {
     "name": "stdout",
     "text": "(3911, 8) (3, 2) (3, 7)\n",
     "output_type": "stream"
    }
   ]
  },
  {
   "cell_type": "code",
   "source": [
    "size = train_df.shape[0]\n",
    "train, validate = int(0.8*size), int(0.2*size)\n",
    "valid_df = train_df.tail(validate).copy()\n",
    "train_df = train_df.head(train).copy()\n",
    "print(train_df.shape, valid_df.shape)"
   ],
   "metadata": {
    "collapsed": false,
    "jupyter": {
     "outputs_hidden": false
    },
    "execution": {
     "iopub.status.busy": "2022-12-09T15:28:30.392456Z",
     "iopub.execute_input": "2022-12-09T15:28:30.393149Z",
     "iopub.status.idle": "2022-12-09T15:28:30.400446Z",
     "shell.execute_reply.started": "2022-12-09T15:28:30.393112Z",
     "shell.execute_reply": "2022-12-09T15:28:30.399289Z"
    },
    "trusted": true
   },
   "execution_count": 4,
   "outputs": [
    {
     "name": "stdout",
     "text": "(3128, 8) (782, 8)\n",
     "output_type": "stream"
    }
   ]
  },
  {
   "cell_type": "code",
   "source": [
    "# Merging Train and Test Data\n",
    "train_size = train_df.shape[0]\n",
    "test_size = test_df.shape[0]\n",
    "print(train_df.shape, test_df.shape, valid_df.shape)"
   ],
   "metadata": {
    "collapsed": false,
    "jupyter": {
     "outputs_hidden": false
    },
    "execution": {
     "iopub.status.busy": "2022-12-09T15:28:33.238850Z",
     "iopub.execute_input": "2022-12-09T15:28:33.239210Z",
     "iopub.status.idle": "2022-12-09T15:28:33.245462Z",
     "shell.execute_reply.started": "2022-12-09T15:28:33.239180Z",
     "shell.execute_reply": "2022-12-09T15:28:33.244178Z"
    },
    "trusted": true
   },
   "execution_count": 5,
   "outputs": [
    {
     "name": "stdout",
     "text": "(3128, 8) (3, 2) (782, 8)\n",
     "output_type": "stream"
    }
   ]
  },
  {
   "cell_type": "code",
   "source": [
    "lemmatizer = WordNetLemmatizer()\n",
    "\n",
    "def preprocess(text) :\n",
    "    text = text.lower()\n",
    "    text = re.sub(r'https?://\\S+|www\\.\\S+','', text)\n",
    "    text = re.sub(r'@[0-9a-zA-Z]*\\W+',' ' , text)\n",
    "\n",
    "    text = re.sub(r'\\d+', ' ', text)\n",
    "    text = re.sub(r'\\#', ' ', text)\n",
    "    text = re.sub(r'\\'', ' ', text)\n",
    "\n",
    "    list_text = text.split()\n",
    "    text = ' '.join(list_text)\n",
    "    return text"
   ],
   "metadata": {
    "collapsed": false,
    "jupyter": {
     "outputs_hidden": false
    },
    "execution": {
     "iopub.status.busy": "2022-12-09T15:28:33.771796Z",
     "iopub.execute_input": "2022-12-09T15:28:33.772157Z",
     "iopub.status.idle": "2022-12-09T15:28:33.779920Z",
     "shell.execute_reply.started": "2022-12-09T15:28:33.772124Z",
     "shell.execute_reply": "2022-12-09T15:28:33.778901Z"
    },
    "trusted": true
   },
   "execution_count": 6,
   "outputs": []
  },
  {
   "cell_type": "code",
   "source": [
    "tokenizer = BertTokenizer.from_pretrained(bert_path)\n",
    "def encode(input_text):\n",
    "    inputs = tokenizer.batch_encode_plus(input_text,padding='max_length',max_length=max_text_len, truncation=True)\n",
    "    return inputs"
   ],
   "metadata": {
    "execution": {
     "iopub.status.busy": "2022-12-09T15:46:51.420794Z",
     "iopub.execute_input": "2022-12-09T15:46:51.421155Z",
     "iopub.status.idle": "2022-12-09T15:46:51.468967Z",
     "shell.execute_reply.started": "2022-12-09T15:46:51.421124Z",
     "shell.execute_reply": "2022-12-09T15:46:51.467969Z"
    },
    "trusted": true
   },
   "execution_count": 26,
   "outputs": []
  },
  {
   "cell_type": "code",
   "source": [
    "text_vocab = set()\n",
    "pos_vocab = list(load('help/tagsets/upenn_tagset.pickle').keys())\n",
    "max_text_len = 0\n",
    "truncate_to = 512\n",
    "for dataset in [train_df, valid_df, test_df]:\n",
    "    #dataset.drop(['text_id'], axis=1, inplace=True)\n",
    "    dataset['full_text'] = dataset['full_text'].apply(lambda text : preprocess(text))\n",
    "    dataset['pos_tag'] = dataset['full_text'].apply(lambda text: pos_tag(word_tokenize(text)))\n",
    "    # there are 36 possible pos_tags\n",
    "    dataset['pos'] = dataset['pos_tag'].apply(lambda text: ' '.join([elem[1] for elem in text[:truncate_to]]))\n",
    "    dataset['tokens'] = dataset['pos_tag'].apply(lambda text: [elem[0] for elem in text[:truncate_to]])\n",
    "    for tokens in dataset['tokens']:\n",
    "        text_vocab.update(tokens)\n",
    "        max_text_len = max(max_text_len, len(tokens))\n",
    "    dataset['tokens'] = dataset['tokens'].apply(lambda text: ' '.join(text))\n",
    "#     dataset.drop(['full_text'], axis=1, inplace=True)\n",
    "    dataset.drop(['pos_tag'], axis=1, inplace=True)"
   ],
   "metadata": {
    "collapsed": false,
    "jupyter": {
     "outputs_hidden": false
    },
    "execution": {
     "iopub.status.busy": "2022-12-09T15:29:28.567505Z",
     "iopub.execute_input": "2022-12-09T15:29:28.567893Z",
     "iopub.status.idle": "2022-12-09T15:30:46.880034Z",
     "shell.execute_reply.started": "2022-12-09T15:29:28.567861Z",
     "shell.execute_reply": "2022-12-09T15:30:46.878970Z"
    },
    "trusted": true
   },
   "execution_count": 8,
   "outputs": []
  },
  {
   "cell_type": "code",
   "source": [
    "train_bert = encode(train_df['tokens'].values.tolist())['input_ids']\n",
    "valid_bert = encode(valid_df['tokens'].values.tolist())['input_ids']\n",
    "test_bert = encode(test_df['tokens'].values.tolist())['input_ids']"
   ],
   "metadata": {
    "execution": {
     "iopub.status.busy": "2022-12-09T15:46:55.483732Z",
     "iopub.execute_input": "2022-12-09T15:46:55.484092Z",
     "iopub.status.idle": "2022-12-09T15:47:34.636662Z",
     "shell.execute_reply.started": "2022-12-09T15:46:55.484061Z",
     "shell.execute_reply": "2022-12-09T15:47:34.635692Z"
    },
    "trusted": true
   },
   "execution_count": 27,
   "outputs": []
  },
  {
   "cell_type": "code",
   "source": [
    "train_df['bert'] = train_bert\n",
    "valid_df['bert'] = valid_bert\n",
    "test_df['bert'] = test_bert"
   ],
   "metadata": {
    "execution": {
     "iopub.status.busy": "2022-12-09T15:47:46.123556Z",
     "iopub.execute_input": "2022-12-09T15:47:46.124452Z",
     "iopub.status.idle": "2022-12-09T15:47:46.132686Z",
     "shell.execute_reply.started": "2022-12-09T15:47:46.124406Z",
     "shell.execute_reply": "2022-12-09T15:47:46.131633Z"
    },
    "trusted": true
   },
   "execution_count": 28,
   "outputs": []
  },
  {
   "cell_type": "code",
   "source": [
    "len(train_df.iloc[0]['tokens'].split())\n",
    "len(train_bert[0])"
   ],
   "metadata": {
    "execution": {
     "iopub.status.busy": "2022-12-09T15:47:46.893455Z",
     "iopub.execute_input": "2022-12-09T15:47:46.893929Z",
     "iopub.status.idle": "2022-12-09T15:47:46.902243Z",
     "shell.execute_reply.started": "2022-12-09T15:47:46.893892Z",
     "shell.execute_reply": "2022-12-09T15:47:46.901278Z"
    },
    "trusted": true
   },
   "execution_count": 29,
   "outputs": [
    {
     "execution_count": 29,
     "output_type": "execute_result",
     "data": {
      "text/plain": "512"
     },
     "metadata": {}
    }
   ]
  },
  {
   "cell_type": "code",
   "source": [
    "all_data = pd.concat((train_df, valid_df, test_df)).reset_index(drop=True)"
   ],
   "metadata": {
    "execution": {
     "iopub.status.busy": "2022-12-09T15:47:47.735077Z",
     "iopub.execute_input": "2022-12-09T15:47:47.735495Z",
     "iopub.status.idle": "2022-12-09T15:47:47.760336Z",
     "shell.execute_reply.started": "2022-12-09T15:47:47.735459Z",
     "shell.execute_reply": "2022-12-09T15:47:47.759477Z"
    },
    "trusted": true
   },
   "execution_count": 30,
   "outputs": []
  },
  {
   "cell_type": "code",
   "source": [
    "max_text_len"
   ],
   "metadata": {
    "collapsed": false,
    "jupyter": {
     "outputs_hidden": false
    },
    "execution": {
     "iopub.status.busy": "2022-12-09T15:47:48.268048Z",
     "iopub.execute_input": "2022-12-09T15:47:48.268750Z",
     "iopub.status.idle": "2022-12-09T15:47:48.275494Z",
     "shell.execute_reply.started": "2022-12-09T15:47:48.268710Z",
     "shell.execute_reply": "2022-12-09T15:47:48.274427Z"
    },
    "trusted": true
   },
   "execution_count": 31,
   "outputs": [
    {
     "execution_count": 31,
     "output_type": "execute_result",
     "data": {
      "text/plain": "512"
     },
     "metadata": {}
    }
   ]
  },
  {
   "cell_type": "code",
   "source": [
    "# tag parts of speech, add as feature\n",
    "train_df.head()"
   ],
   "metadata": {
    "collapsed": false,
    "jupyter": {
     "outputs_hidden": false
    },
    "execution": {
     "iopub.status.busy": "2022-12-09T15:47:48.822498Z",
     "iopub.execute_input": "2022-12-09T15:47:48.823508Z",
     "iopub.status.idle": "2022-12-09T15:47:48.854855Z",
     "shell.execute_reply.started": "2022-12-09T15:47:48.823468Z",
     "shell.execute_reply": "2022-12-09T15:47:48.853740Z"
    },
    "trusted": true
   },
   "execution_count": 32,
   "outputs": [
    {
     "execution_count": 32,
     "output_type": "execute_result",
     "data": {
      "text/plain": "        text_id                                          full_text  cohesion  \\\n0  0016926B079C  i think that students would benefit from learn...       3.5   \n1  0022683E9EA5  when a problem is a change you have to let it ...       2.5   \n2  00299B378633  dear, principal if u change the school policy ...       3.0   \n3  003885A45F42  the best time in life is when you become yours...       4.5   \n4  0049B1DF5CCC  small act of kindness can impact in other peop...       2.5   \n\n   syntax  vocabulary  phraseology  grammar  conventions  \\\n0     3.5         3.0          3.0      4.0          3.0   \n1     2.5         3.0          2.0      2.0          2.5   \n2     3.5         3.0          3.0      3.0          2.5   \n3     4.5         4.5          4.5      4.0          5.0   \n4     3.0         3.0          3.0      2.5          2.5   \n\n                                                 pos  \\\n0  NN VBP IN NNS MD VB IN VBG IN NN , IN PRP VBP ...   \n1  WRB DT NN VBZ DT NN PRP VBP TO VB PRP VB DT JJ...   \n2  NN , JJ IN JJ VBP DT NN NN IN VBG DT NN NN NN ...   \n3  DT JJS NN IN NN VBZ WRB PRP VBP PRP . VB VBP I...   \n4  JJ NN IN NN MD VB IN JJ NNS MD VB NNS TO VB JJ...   \n\n                                              tokens  \\\n0  i think that students would benefit from learn...   \n1  when a problem is a change you have to let it ...   \n2  dear , principal if u change the school policy...   \n3  the best time in life is when you become yours...   \n4  small act of kindness can impact in other peop...   \n\n                                                bert  \n0  [101, 1045, 2228, 2008, 2493, 2052, 5770, 2013...  \n1  [101, 2043, 1037, 3291, 2003, 1037, 2689, 2017...  \n2  [101, 6203, 1010, 4054, 2065, 1057, 2689, 1996...  \n3  [101, 1996, 2190, 2051, 1999, 2166, 2003, 2043...  \n4  [101, 2235, 2552, 1997, 16056, 2064, 4254, 199...  ",
      "text/html": "<div>\n<style scoped>\n    .dataframe tbody tr th:only-of-type {\n        vertical-align: middle;\n    }\n\n    .dataframe tbody tr th {\n        vertical-align: top;\n    }\n\n    .dataframe thead th {\n        text-align: right;\n    }\n</style>\n<table border=\"1\" class=\"dataframe\">\n  <thead>\n    <tr style=\"text-align: right;\">\n      <th></th>\n      <th>text_id</th>\n      <th>full_text</th>\n      <th>cohesion</th>\n      <th>syntax</th>\n      <th>vocabulary</th>\n      <th>phraseology</th>\n      <th>grammar</th>\n      <th>conventions</th>\n      <th>pos</th>\n      <th>tokens</th>\n      <th>bert</th>\n    </tr>\n  </thead>\n  <tbody>\n    <tr>\n      <th>0</th>\n      <td>0016926B079C</td>\n      <td>i think that students would benefit from learn...</td>\n      <td>3.5</td>\n      <td>3.5</td>\n      <td>3.0</td>\n      <td>3.0</td>\n      <td>4.0</td>\n      <td>3.0</td>\n      <td>NN VBP IN NNS MD VB IN VBG IN NN , IN PRP VBP ...</td>\n      <td>i think that students would benefit from learn...</td>\n      <td>[101, 1045, 2228, 2008, 2493, 2052, 5770, 2013...</td>\n    </tr>\n    <tr>\n      <th>1</th>\n      <td>0022683E9EA5</td>\n      <td>when a problem is a change you have to let it ...</td>\n      <td>2.5</td>\n      <td>2.5</td>\n      <td>3.0</td>\n      <td>2.0</td>\n      <td>2.0</td>\n      <td>2.5</td>\n      <td>WRB DT NN VBZ DT NN PRP VBP TO VB PRP VB DT JJ...</td>\n      <td>when a problem is a change you have to let it ...</td>\n      <td>[101, 2043, 1037, 3291, 2003, 1037, 2689, 2017...</td>\n    </tr>\n    <tr>\n      <th>2</th>\n      <td>00299B378633</td>\n      <td>dear, principal if u change the school policy ...</td>\n      <td>3.0</td>\n      <td>3.5</td>\n      <td>3.0</td>\n      <td>3.0</td>\n      <td>3.0</td>\n      <td>2.5</td>\n      <td>NN , JJ IN JJ VBP DT NN NN IN VBG DT NN NN NN ...</td>\n      <td>dear , principal if u change the school policy...</td>\n      <td>[101, 6203, 1010, 4054, 2065, 1057, 2689, 1996...</td>\n    </tr>\n    <tr>\n      <th>3</th>\n      <td>003885A45F42</td>\n      <td>the best time in life is when you become yours...</td>\n      <td>4.5</td>\n      <td>4.5</td>\n      <td>4.5</td>\n      <td>4.5</td>\n      <td>4.0</td>\n      <td>5.0</td>\n      <td>DT JJS NN IN NN VBZ WRB PRP VBP PRP . VB VBP I...</td>\n      <td>the best time in life is when you become yours...</td>\n      <td>[101, 1996, 2190, 2051, 1999, 2166, 2003, 2043...</td>\n    </tr>\n    <tr>\n      <th>4</th>\n      <td>0049B1DF5CCC</td>\n      <td>small act of kindness can impact in other peop...</td>\n      <td>2.5</td>\n      <td>3.0</td>\n      <td>3.0</td>\n      <td>3.0</td>\n      <td>2.5</td>\n      <td>2.5</td>\n      <td>JJ NN IN NN MD VB IN JJ NNS MD VB NNS TO VB JJ...</td>\n      <td>small act of kindness can impact in other peop...</td>\n      <td>[101, 2235, 2552, 1997, 16056, 2064, 4254, 199...</td>\n    </tr>\n  </tbody>\n</table>\n</div>"
     },
     "metadata": {}
    }
   ]
  },
  {
   "cell_type": "code",
   "source": [
    "# \"(E)lement-(Wi)se (Dense)\" Layer for combining two embeddings (or other multi-feature time sequence data) with a Dense layer applied element-wise (so not exactly Dense, as in the output embedding the first position is only determined by a linear combination of the two embedding values in corresponding positions in the two input embeddings)\n",
    "# (We picked this name because it was funny)\n",
    "class EWiDense(tf.keras.layers.Layer):\n",
    "    def __init__(self, activation=None, **kwargs):\n",
    "        super(EWiDense, self).__init__(**kwargs)\n",
    "        self.activation = activation\n",
    "\n",
    "    def build(self, input_shape):\n",
    "        self.embedding_size = input_shape[0][-1]\n",
    "        # print(self.tile_shape)\n",
    "        self.w1 = self.add_weight(\n",
    "            shape=[self.embedding_size],\n",
    "            initializer=\"ones\",\n",
    "            trainable=True,\n",
    "            name=\"w1\"\n",
    "        )\n",
    "        # print(tf.shape(self.w1))\n",
    "        self.w2 = self.add_weight(\n",
    "            shape=[self.embedding_size],\n",
    "            initializer=\"ones\",\n",
    "            trainable=True,\n",
    "            name=\"w2\"\n",
    "        )\n",
    "        self.b1 = self.add_weight(\n",
    "            shape=[self.embedding_size],\n",
    "            initializer=\"zeros\",\n",
    "            trainable=True,\n",
    "            name=\"b1\"\n",
    "        )\n",
    "\n",
    "    def call(self, data):  # expected x of two embeddings of shape batch_size, seq_len, embedding_size\n",
    "        if self.activation:\n",
    "            return self.activation(tf.multiply(data[0], self.w1) + tf.multiply(data[1], self.w2) + self.b1)\n",
    "        return tf.multiply(data[0], self.w1) + tf.multiply(data[1], self.w2) + self.b1"
   ],
   "metadata": {
    "collapsed": false,
    "jupyter": {
     "outputs_hidden": false
    },
    "execution": {
     "iopub.status.busy": "2022-12-09T15:47:56.256713Z",
     "iopub.execute_input": "2022-12-09T15:47:56.257093Z",
     "iopub.status.idle": "2022-12-09T15:47:56.267329Z",
     "shell.execute_reply.started": "2022-12-09T15:47:56.257061Z",
     "shell.execute_reply": "2022-12-09T15:47:56.266125Z"
    },
    "trusted": true
   },
   "execution_count": 33,
   "outputs": []
  },
  {
   "cell_type": "code",
   "source": [
    "# compare standard positional encoding with grammar + positional encodinng\n",
    "# use encoder networks, but not the decoders because we don't have an output sequence really\n",
    "\n",
    "class GrammarModel(tf.keras.Model):\n",
    "    def __init__(self, num_layers, d_model, num_heads, dff,\n",
    "               max_text_len, text_vocab, pos_vocab, dropout_rate=0.1):\n",
    "        super().__init__()\n",
    "        self.num_layers = num_layers\n",
    "        self.d_model = d_model\n",
    "        with tf.device(\"/cpu:0\"):\n",
    "            self.text_vectorization = tf.keras.layers.TextVectorization(output_mode='int', output_sequence_length=max_text_len)\n",
    "            self.text_vectorization.adapt(text_vocab)\n",
    "            self.pos_vectorization = tf.keras.layers.TextVectorization(output_mode='int', output_sequence_length=max_text_len)\n",
    "            self.pos_vectorization.adapt(pos_vocab)\n",
    "            self.word_embedding = tf.keras.layers.Embedding(self.text_vectorization.vocabulary_size(), d_model) # replace\n",
    "            self.pos_embedding = tf.keras.layers.Embedding(self.pos_vectorization.vocabulary_size(), d_model)\n",
    "        self.EWiDenseLayer = EWiDense(activation=tf.keras.layers.LeakyReLU())\n",
    "        self.pos_encoding = tf.Variable(positional_encoding(length=max_text_len, depth=d_model), trainable=False)\n",
    "        self.pos_scalar = tf.math.sqrt(tf.cast(self.d_model, tf.float32))\n",
    "        self.enc_layers = [\n",
    "            EncoderLayer(d_model=d_model,\n",
    "                         num_heads=num_heads,\n",
    "                         dff=dff,\n",
    "                         dropout_rate=dropout_rate)\n",
    "            for _ in range(num_layers)]\n",
    "        self.dropout = tf.keras.layers.Dropout(dropout_rate)\n",
    "        self.pooling = tf.keras.layers.GlobalAveragePooling1D()\n",
    "        self.layernorm = tf.keras.layers.LayerNormalization()\n",
    "        self.dense = tf.keras.layers.Dense(1)\n",
    "\n",
    "    def call(self, inputs):\n",
    "        words = inputs[:, 0]\n",
    "        pos = inputs[:, 1]\n",
    "        # combine embeddings\n",
    "        words = self.text_vectorization(words)\n",
    "        pos = self.pos_vectorization(pos)\n",
    "        x = self.EWiDenseLayer((self.word_embedding(words), self.pos_embedding(pos)))\n",
    "        # add positional encoding\n",
    "        x = x * self.pos_scalar\n",
    "        x = x + self.pos_encoding\n",
    "        # dropout\n",
    "        x = self.dropout(x)\n",
    "        # add encoding layers\n",
    "        for i in range(self.num_layers):\n",
    "            x = self.enc_layers[i](x)\n",
    "        x = self.pooling(x)\n",
    "        x = self.layernorm(x)\n",
    "        return self.dense(x)"
   ],
   "metadata": {
    "collapsed": false,
    "jupyter": {
     "outputs_hidden": false
    },
    "execution": {
     "iopub.status.busy": "2022-12-09T15:47:57.232022Z",
     "iopub.execute_input": "2022-12-09T15:47:57.232407Z",
     "iopub.status.idle": "2022-12-09T15:47:57.246912Z",
     "shell.execute_reply.started": "2022-12-09T15:47:57.232375Z",
     "shell.execute_reply": "2022-12-09T15:47:57.245719Z"
    },
    "trusted": true
   },
   "execution_count": 34,
   "outputs": []
  },
  {
   "cell_type": "code",
   "source": [
    "class SyntaxModel(GrammarModel):\n",
    "    def __init__(self, hidden_size, *args, **kwargs):\n",
    "        super(SyntaxModel, self).__init__(*args, **kwargs)\n",
    "        self.inter_dense = tf.keras.layers.Dense(hidden_size, activation='relu')\n",
    "        self.syntax_dense = tf.keras.layers.Dense(1)\n",
    "\n",
    "    def call(self, inputs):\n",
    "        words = inputs[:, 0]\n",
    "        pos = inputs[:, 1]\n",
    "        # combine embeddings\n",
    "        words = self.text_vectorization(words)\n",
    "        pos = self.pos_vectorization(pos)\n",
    "        x = self.EWiDenseLayer((self.word_embedding(words), self.pos_embedding(pos)))\n",
    "        # add positional encoding\n",
    "        x = x * self.pos_scalar\n",
    "        x = x + self.pos_encoding\n",
    "        # dropout\n",
    "        x = self.dropout(x)\n",
    "        # add encoding layers\n",
    "        for i in range(self.num_layers):\n",
    "            x = self.enc_layers[i](x)\n",
    "        x = self.pooling(x)\n",
    "        x = self.layernorm(x)\n",
    "        self.encoder_out = x #(batch_size, embed_size)\n",
    "        grammar_out = self.dense(x) #(batch_size, 1)\n",
    "        \n",
    "        concatenated = tf.concat((self.encoder_out, grammar_out), axis=1)\n",
    "        x = self.inter_dense(concatenated)\n",
    "        syntax_out = self.syntax_dense(x)\n",
    "        return tf.concat((grammar_out, syntax_out), axis=1)"
   ],
   "metadata": {
    "execution": {
     "iopub.status.busy": "2022-12-09T05:44:06.252506Z",
     "iopub.execute_input": "2022-12-09T05:44:06.253109Z",
     "iopub.status.idle": "2022-12-09T05:44:06.263439Z",
     "shell.execute_reply.started": "2022-12-09T05:44:06.253077Z",
     "shell.execute_reply": "2022-12-09T05:44:06.262665Z"
    },
    "trusted": true
   },
   "execution_count": 16,
   "outputs": []
  },
  {
   "cell_type": "code",
   "source": [
    "class BERTSyntaxModel(GrammarModel):\n",
    "    def __init__(self, hidden_size, *args, **kwargs):\n",
    "        super(BERTSyntaxModel, self).__init__(*args, **kwargs)\n",
    "        del self.word_embedding\n",
    "        del self.text_vectorization\n",
    "        self.inter_dense = tf.keras.layers.Dense(hidden_size, activation='relu')\n",
    "        self.syntax_dense = tf.keras.layers.Dense(1)\n",
    "        self.bert_encoder = TFBertModel.from_pretrained(bert_path)\n",
    "        for param in self.bert_encoder.base_model.parameters():\n",
    "            param.requires_grad = False\n",
    "        self.bert_down_size = tf.keras.layers.Dense(self.d_model)\n",
    "\n",
    "    def call(self, inputs, training=True):\n",
    "        words = inputs[0]\n",
    "        pos = inputs[1]\n",
    "        # combine embeddings\n",
    "        embedding = self.bert_encoder(words, training=training)[0]\n",
    "        embedding = self.bert_down_size(embedding)\n",
    "        pos = self.pos_vectorization(pos)\n",
    "        x = self.EWiDenseLayer((embedding, self.pos_embedding(pos)))\n",
    "        # add positional encoding\n",
    "        x = x * self.pos_scalar\n",
    "        x = x + self.pos_encoding\n",
    "        # dropout\n",
    "        x = self.dropout(x)\n",
    "        # add encoding layers\n",
    "        for i in range(self.num_layers):\n",
    "            x = self.enc_layers[i](x)\n",
    "        x = self.pooling(x)\n",
    "        x = self.layernorm(x)\n",
    "        self.encoder_out = x #(batch_size, embed_size)\n",
    "        grammar_out = self.dense(x) #(batch_size, 1)\n",
    "        \n",
    "        concatenated = tf.concat((self.encoder_out, grammar_out), axis=1)\n",
    "        x = self.inter_dense(concatenated)\n",
    "        syntax_out = self.syntax_dense(x)\n",
    "        return tf.concat((grammar_out, syntax_out), axis=1)"
   ],
   "metadata": {
    "execution": {
     "iopub.status.busy": "2022-12-09T15:47:59.527425Z",
     "iopub.execute_input": "2022-12-09T15:47:59.528373Z",
     "iopub.status.idle": "2022-12-09T15:47:59.541231Z",
     "shell.execute_reply.started": "2022-12-09T15:47:59.528335Z",
     "shell.execute_reply": "2022-12-09T15:47:59.540278Z"
    },
    "trusted": true
   },
   "execution_count": 35,
   "outputs": []
  },
  {
   "cell_type": "code",
   "source": [
    "## Column-wise RMSE\n",
    "def MCRMSE(y_true, y_pred):\n",
    "    mcrmse = tf.reduce_mean(tf.square(y_true - y_pred), axis=1)\n",
    "    return tf.reduce_mean(tf.sqrt(mcrmse), axis=-1, keepdims=True)"
   ],
   "metadata": {
    "execution": {
     "iopub.status.busy": "2022-12-09T15:47:59.937246Z",
     "iopub.execute_input": "2022-12-09T15:47:59.937613Z",
     "iopub.status.idle": "2022-12-09T15:47:59.943179Z",
     "shell.execute_reply.started": "2022-12-09T15:47:59.937561Z",
     "shell.execute_reply": "2022-12-09T15:47:59.941846Z"
    },
    "trusted": true
   },
   "execution_count": 36,
   "outputs": []
  },
  {
   "cell_type": "code",
   "source": [
    "def create_model():\n",
    "    num_layers = 6\n",
    "    d_model = 64\n",
    "    dff = 256\n",
    "    num_heads = 8\n",
    "    dropout_rate = 0.2\n",
    "    model = GrammarModel(num_layers, d_model, num_heads, dff, max_text_len, np.array(list(text_vocab)), np.array(list(pos_vocab)), dropout_rate)\n",
    "    model.compile(optimizer=tf.keras.optimizers.Adam(1e-5, clipnorm=1), loss=MCRMSE, metrics=MCRMSE, run_eagerly=True)\n",
    "    return model"
   ],
   "metadata": {
    "jupyter": {
     "source_hidden": true
    },
    "execution": {
     "iopub.status.busy": "2022-12-09T15:48:00.538328Z",
     "iopub.execute_input": "2022-12-09T15:48:00.538709Z",
     "iopub.status.idle": "2022-12-09T15:48:00.544975Z",
     "shell.execute_reply.started": "2022-12-09T15:48:00.538677Z",
     "shell.execute_reply": "2022-12-09T15:48:00.543956Z"
    },
    "trusted": true
   },
   "execution_count": 37,
   "outputs": []
  },
  {
   "cell_type": "code",
   "source": [
    "class TransformerScheduler(tf.keras.optimizers.schedules.LearningRateSchedule):\n",
    "    def __init__(self, scale_lr, hidden_size, warmup_steps):\n",
    "        self.scale_lr = tf.cast(scale_lr, tf.float32)\n",
    "        self.hidden_size = tf.cast(hidden_size, tf.float32)\n",
    "        self.warmup_steps = tf.cast(warmup_steps, tf.float32)\n",
    "    \n",
    "    def __call__(self, step):\n",
    "        step = tf.cast(step, tf.float32)\n",
    "        lr = self.scale_lr / tf.sqrt(self.hidden_size)\n",
    "        lr *= tf.minimum(1 / tf.sqrt(step), step * self.warmup_steps ** (-1.5))\n",
    "        return lr \n",
    "\n",
    "def create_syntax_model():\n",
    "    num_layers = 6\n",
    "    d_model = 64\n",
    "    dff = 256\n",
    "    num_heads = 8\n",
    "    dropout_rate = 0.2\n",
    "    model = BERTSyntaxModel(128, num_layers, d_model, num_heads, dff, max_text_len, np.array(list(text_vocab)), np.array(list(pos_vocab)), dropout_rate)\n",
    "    model.compile(optimizer=tf.keras.optimizers.Adam(learning_rate=1e-5, beta_1=0.9, beta_2=0.999, clipnorm=1), loss=MCRMSE, metrics=MCRMSE, run_eagerly=True)\n",
    "    return model"
   ],
   "metadata": {
    "execution": {
     "iopub.status.busy": "2022-12-09T15:48:17.949625Z",
     "iopub.execute_input": "2022-12-09T15:48:17.950094Z",
     "iopub.status.idle": "2022-12-09T15:48:17.969101Z",
     "shell.execute_reply.started": "2022-12-09T15:48:17.950053Z",
     "shell.execute_reply": "2022-12-09T15:48:17.968047Z"
    },
    "trusted": true
   },
   "execution_count": 40,
   "outputs": []
  },
  {
   "cell_type": "code",
   "source": [
    "# model = create_model()\n",
    "# model.summary()"
   ],
   "metadata": {
    "execution": {
     "iopub.status.busy": "2022-12-09T05:44:06.311197Z",
     "iopub.execute_input": "2022-12-09T05:44:06.311783Z",
     "iopub.status.idle": "2022-12-09T05:44:06.325856Z",
     "shell.execute_reply.started": "2022-12-09T05:44:06.311749Z",
     "shell.execute_reply": "2022-12-09T05:44:06.324145Z"
    },
    "trusted": true
   },
   "execution_count": 21,
   "outputs": []
  },
  {
   "cell_type": "code",
   "source": [
    "# len(train_df.iloc[0][['tokens', 'pos']][0].split())"
   ],
   "metadata": {
    "execution": {
     "iopub.status.busy": "2022-12-09T05:44:06.328124Z",
     "iopub.execute_input": "2022-12-09T05:44:06.329051Z",
     "iopub.status.idle": "2022-12-09T05:44:06.336637Z",
     "shell.execute_reply.started": "2022-12-09T05:44:06.329015Z",
     "shell.execute_reply": "2022-12-09T05:44:06.335164Z"
    },
    "trusted": true
   },
   "execution_count": 22,
   "outputs": []
  },
  {
   "cell_type": "code",
   "source": [
    "# model.text_vectorization.vocabulary_size()"
   ],
   "metadata": {
    "execution": {
     "iopub.status.busy": "2022-12-09T05:44:06.338130Z",
     "iopub.execute_input": "2022-12-09T05:44:06.339200Z",
     "iopub.status.idle": "2022-12-09T05:44:06.345490Z",
     "shell.execute_reply.started": "2022-12-09T05:44:06.339164Z",
     "shell.execute_reply": "2022-12-09T05:44:06.344072Z"
    },
    "trusted": true
   },
   "execution_count": 23,
   "outputs": []
  },
  {
   "cell_type": "code",
   "source": [
    "max_text_len"
   ],
   "metadata": {
    "execution": {
     "iopub.status.busy": "2022-12-09T15:48:10.347294Z",
     "iopub.execute_input": "2022-12-09T15:48:10.347681Z",
     "iopub.status.idle": "2022-12-09T15:48:10.353856Z",
     "shell.execute_reply.started": "2022-12-09T15:48:10.347648Z",
     "shell.execute_reply": "2022-12-09T15:48:10.352871Z"
    },
    "trusted": true
   },
   "execution_count": 38,
   "outputs": [
    {
     "execution_count": 38,
     "output_type": "execute_result",
     "data": {
      "text/plain": "512"
     },
     "metadata": {}
    }
   ]
  },
  {
   "cell_type": "code",
   "source": [
    "# model(tf.expand_dims(tf.convert_to_tensor(train_df.iloc[0][['tokens', 'pos']]), 0))\n",
    "# model.summary()"
   ],
   "metadata": {
    "execution": {
     "iopub.status.busy": "2022-12-09T05:44:06.364521Z",
     "iopub.execute_input": "2022-12-09T05:44:06.365876Z",
     "iopub.status.idle": "2022-12-09T05:44:06.370019Z",
     "shell.execute_reply.started": "2022-12-09T05:44:06.365817Z",
     "shell.execute_reply": "2022-12-09T05:44:06.368952Z"
    },
    "trusted": true
   },
   "execution_count": 25,
   "outputs": []
  },
  {
   "cell_type": "code",
   "source": [
    "# tf.debugging.disable_traceback_filtering()"
   ],
   "metadata": {
    "execution": {
     "iopub.status.busy": "2022-12-09T05:44:06.373353Z",
     "iopub.execute_input": "2022-12-09T05:44:06.374145Z",
     "iopub.status.idle": "2022-12-09T05:44:06.382182Z",
     "shell.execute_reply.started": "2022-12-09T05:44:06.374101Z",
     "shell.execute_reply": "2022-12-09T05:44:06.380267Z"
    },
    "trusted": true
   },
   "execution_count": 26,
   "outputs": []
  },
  {
   "cell_type": "code",
   "source": [
    "# import tensorflow as tf\n",
    "# print(\"Num GPUs Available: \", len(tf.config.list_physical_devices('GPU')))"
   ],
   "metadata": {
    "execution": {
     "iopub.status.busy": "2022-12-09T05:44:06.383473Z",
     "iopub.execute_input": "2022-12-09T05:44:06.384132Z",
     "iopub.status.idle": "2022-12-09T05:44:06.388869Z",
     "shell.execute_reply.started": "2022-12-09T05:44:06.384090Z",
     "shell.execute_reply": "2022-12-09T05:44:06.387552Z"
    },
    "trusted": true
   },
   "execution_count": 27,
   "outputs": []
  },
  {
   "cell_type": "code",
   "source": [
    "# checkpoint_filepath = 'tmp/checkpoint'\n",
    "# model_checkpoint_callback = tf.keras.callbacks.ModelCheckpoint(\n",
    "#     filepath=checkpoint_filepath,\n",
    "#     monitor=\"val_loss\",\n",
    "#     verbose=1,\n",
    "#     save_weights_only=True,\n",
    "#     mode='min',\n",
    "#     save_best_only=True)\n",
    "# history = model.fit(\n",
    "#                     train_df[['tokens', 'pos']],\n",
    "#                     train_df['grammar'],\n",
    "#                     validation_data = (valid_df[['tokens', 'pos']], valid_df['grammar']),\n",
    "#                     steps_per_epoch= train_df.shape[0]//4,\n",
    "#                     batch_size = 4,\n",
    "#                     epochs= 100,\n",
    "#                     verbose = 1,\n",
    "#                     shuffle= True,\n",
    "#                     callbacks=[model_checkpoint_callback])"
   ],
   "metadata": {
    "pycharm": {
     "is_executing": true
    },
    "execution": {
     "iopub.status.busy": "2022-12-09T05:44:06.398334Z",
     "iopub.execute_input": "2022-12-09T05:44:06.398935Z",
     "iopub.status.idle": "2022-12-09T05:44:06.404195Z",
     "shell.execute_reply.started": "2022-12-09T05:44:06.398900Z",
     "shell.execute_reply": "2022-12-09T05:44:06.402755Z"
    },
    "trusted": true
   },
   "execution_count": 28,
   "outputs": []
  },
  {
   "cell_type": "code",
   "source": [
    "# history"
   ],
   "metadata": {
    "execution": {
     "iopub.status.busy": "2022-12-09T05:44:06.405798Z",
     "iopub.execute_input": "2022-12-09T05:44:06.406525Z",
     "iopub.status.idle": "2022-12-09T05:44:06.417283Z",
     "shell.execute_reply.started": "2022-12-09T05:44:06.406482Z",
     "shell.execute_reply": "2022-12-09T05:44:06.416200Z"
    },
    "trusted": true
   },
   "execution_count": 29,
   "outputs": []
  },
  {
   "cell_type": "code",
   "source": [
    "# model(tf.expand_dims(tf.convert_to_tensor(train_df.iloc[0][['tokens', 'pos']]), 0))"
   ],
   "metadata": {
    "execution": {
     "iopub.status.busy": "2022-12-09T05:44:06.418571Z",
     "iopub.execute_input": "2022-12-09T05:44:06.419235Z",
     "iopub.status.idle": "2022-12-09T05:44:06.425740Z",
     "shell.execute_reply.started": "2022-12-09T05:44:06.419199Z",
     "shell.execute_reply": "2022-12-09T05:44:06.424705Z"
    },
    "trusted": true
   },
   "execution_count": 30,
   "outputs": []
  },
  {
   "cell_type": "code",
   "source": [
    "syntax_model = create_syntax_model()"
   ],
   "metadata": {
    "collapsed": false,
    "jupyter": {
     "outputs_hidden": false
    },
    "execution": {
     "iopub.status.busy": "2022-12-09T15:48:21.030783Z",
     "iopub.execute_input": "2022-12-09T15:48:21.031236Z",
     "iopub.status.idle": "2022-12-09T15:48:30.251341Z",
     "shell.execute_reply.started": "2022-12-09T15:48:21.031194Z",
     "shell.execute_reply": "2022-12-09T15:48:30.250480Z"
    },
    "trusted": true
   },
   "execution_count": 41,
   "outputs": [
    {
     "name": "stderr",
     "text": "2022-12-09 15:48:21.178155: I tensorflow/compiler/mlir/mlir_graph_optimization_pass.cc:185] None of the MLIR Optimization Passes are enabled (registered 2)\nSome layers from the model checkpoint at /kaggle/input/huggingface-bert-variants/bert-base-uncased/bert-base-uncased were not used when initializing TFBertModel: ['nsp___cls', 'mlm___cls']\n- This IS expected if you are initializing TFBertModel from the checkpoint of a model trained on another task or with another architecture (e.g. initializing a BertForSequenceClassification model from a BertForPreTraining model).\n- This IS NOT expected if you are initializing TFBertModel from the checkpoint of a model that you expect to be exactly identical (initializing a BertForSequenceClassification model from a BertForSequenceClassification model).\nAll the layers of TFBertModel were initialized from the model checkpoint at /kaggle/input/huggingface-bert-variants/bert-base-uncased/bert-base-uncased.\nIf your task is similar to the task the model of the checkpoint was trained on, you can already use TFBertModel for predictions without further training.\n",
     "output_type": "stream"
    }
   ]
  },
  {
   "cell_type": "code",
   "source": [
    "# test = (np.array(train_df['bert'].values.tolist()), train_df['pos'])"
   ],
   "metadata": {
    "execution": {
     "iopub.status.busy": "2022-12-09T05:44:14.382623Z",
     "iopub.execute_input": "2022-12-09T05:44:14.383406Z",
     "iopub.status.idle": "2022-12-09T05:44:14.388093Z",
     "shell.execute_reply.started": "2022-12-09T05:44:14.383368Z",
     "shell.execute_reply": "2022-12-09T05:44:14.386876Z"
    },
    "trusted": true
   },
   "execution_count": 32,
   "outputs": []
  },
  {
   "cell_type": "code",
   "source": [
    "# test[1].shape"
   ],
   "metadata": {
    "execution": {
     "iopub.status.busy": "2022-12-09T05:44:14.390156Z",
     "iopub.execute_input": "2022-12-09T05:44:14.390616Z",
     "iopub.status.idle": "2022-12-09T05:44:14.398737Z",
     "shell.execute_reply.started": "2022-12-09T05:44:14.390578Z",
     "shell.execute_reply": "2022-12-09T05:44:14.397667Z"
    },
    "trusted": true
   },
   "execution_count": 33,
   "outputs": []
  },
  {
   "cell_type": "code",
   "source": [
    "# syntax_model(test)\n",
    "# syntax_model.summary()"
   ],
   "metadata": {
    "execution": {
     "iopub.status.busy": "2022-12-09T05:44:14.401379Z",
     "iopub.execute_input": "2022-12-09T05:44:14.401989Z",
     "iopub.status.idle": "2022-12-09T05:44:14.409640Z",
     "shell.execute_reply.started": "2022-12-09T05:44:14.401960Z",
     "shell.execute_reply": "2022-12-09T05:44:14.408677Z"
    },
    "jupyter": {
     "source_hidden": true
    },
    "trusted": true
   },
   "execution_count": 34,
   "outputs": []
  },
  {
   "cell_type": "code",
   "source": [
    "batch_size = 2\n",
    "checkpoint_filepath = 'checkpoints_bert_final/'\n",
    "model_checkpoint_callback = tf.keras.callbacks.ModelCheckpoint(\n",
    "    filepath=checkpoint_filepath,\n",
    "    monitor=\"val_loss\",\n",
    "    verbose=1,\n",
    "    save_weights_only=True,\n",
    "    mode='min',\n",
    "    save_best_only=True)\n",
    "deez_nuts = syntax_model.fit(\n",
    "                    (np.array(train_df['bert'].values.tolist()), train_df['pos']),\n",
    "                    train_df[['grammar', 'syntax']],\n",
    "                    validation_data = ((np.array(valid_df['bert'].values.tolist()), valid_df['pos']), valid_df[['grammar', 'syntax']]),\n",
    "                    steps_per_epoch= train_df.shape[0]//batch_size,\n",
    "                    batch_size = batch_size,\n",
    "                    epochs= 25,\n",
    "                    verbose = 1,\n",
    "                    shuffle= True,\n",
    "                    callbacks=[model_checkpoint_callback])"
   ],
   "metadata": {
    "execution": {
     "iopub.status.busy": "2022-12-09T15:48:40.505026Z",
     "iopub.execute_input": "2022-12-09T15:48:40.505388Z",
     "iopub.status.idle": "2022-12-09T22:36:02.720951Z",
     "shell.execute_reply.started": "2022-12-09T15:48:40.505356Z",
     "shell.execute_reply": "2022-12-09T22:36:02.719930Z"
    },
    "trusted": true
   },
   "execution_count": 42,
   "outputs": [
    {
     "name": "stdout",
     "text": "Epoch 1/25\n",
     "output_type": "stream"
    },
    {
     "name": "stderr",
     "text": "2022-12-09 15:48:41.642055: I tensorflow/stream_executor/cuda/cuda_dnn.cc:369] Loaded cuDNN version 8005\n",
     "output_type": "stream"
    },
    {
     "name": "stdout",
     "text": "1564/1564 [==============================] - 983s 627ms/step - loss: 0.4865 - MCRMSE: 0.4865 - val_loss: 0.4670 - val_MCRMSE: 0.4670\n\nEpoch 00001: val_loss improved from inf to 0.46702, saving model to checkpoints_bert_final/\nEpoch 2/25\n1564/1564 [==============================] - 978s 625ms/step - loss: 0.4169 - MCRMSE: 0.4169 - val_loss: 0.4438 - val_MCRMSE: 0.4438\n\nEpoch 00002: val_loss improved from 0.46702 to 0.44378, saving model to checkpoints_bert_final/\nEpoch 3/25\n1564/1564 [==============================] - 980s 627ms/step - loss: 0.3651 - MCRMSE: 0.3651 - val_loss: 0.4589 - val_MCRMSE: 0.4589\n\nEpoch 00003: val_loss did not improve from 0.44378\nEpoch 4/25\n1564/1564 [==============================] - 966s 617ms/step - loss: 0.3208 - MCRMSE: 0.3208 - val_loss: 0.4464 - val_MCRMSE: 0.4464\n\nEpoch 00004: val_loss did not improve from 0.44378\nEpoch 5/25\n1564/1564 [==============================] - 964s 616ms/step - loss: 0.2879 - MCRMSE: 0.2879 - val_loss: 0.4668 - val_MCRMSE: 0.4668\n\nEpoch 00005: val_loss did not improve from 0.44378\nEpoch 6/25\n1564/1564 [==============================] - 965s 617ms/step - loss: 0.2667 - MCRMSE: 0.2667 - val_loss: 0.4507 - val_MCRMSE: 0.4507\n\nEpoch 00006: val_loss did not improve from 0.44378\nEpoch 7/25\n1564/1564 [==============================] - 965s 617ms/step - loss: 0.2455 - MCRMSE: 0.2455 - val_loss: 0.4593 - val_MCRMSE: 0.4593\n\nEpoch 00007: val_loss did not improve from 0.44378\nEpoch 8/25\n1564/1564 [==============================] - 966s 617ms/step - loss: 0.2205 - MCRMSE: 0.2205 - val_loss: 0.4509 - val_MCRMSE: 0.4509\n\nEpoch 00008: val_loss did not improve from 0.44378\nEpoch 9/25\n1564/1564 [==============================] - 968s 619ms/step - loss: 0.1997 - MCRMSE: 0.1997 - val_loss: 0.4544 - val_MCRMSE: 0.4544\n\nEpoch 00009: val_loss did not improve from 0.44378\nEpoch 10/25\n1564/1564 [==============================] - 971s 621ms/step - loss: 0.1856 - MCRMSE: 0.1856 - val_loss: 0.4584 - val_MCRMSE: 0.4584\n\nEpoch 00010: val_loss did not improve from 0.44378\nEpoch 11/25\n1564/1564 [==============================] - 972s 621ms/step - loss: 0.1673 - MCRMSE: 0.1673 - val_loss: 0.4593 - val_MCRMSE: 0.4593\n\nEpoch 00011: val_loss did not improve from 0.44378\nEpoch 12/25\n1564/1564 [==============================] - 986s 630ms/step - loss: 0.1575 - MCRMSE: 0.1575 - val_loss: 0.4558 - val_MCRMSE: 0.4558\n\nEpoch 00012: val_loss did not improve from 0.44378\nEpoch 13/25\n1564/1564 [==============================] - 986s 631ms/step - loss: 0.1500 - MCRMSE: 0.1500 - val_loss: 0.4527 - val_MCRMSE: 0.4527\n\nEpoch 00013: val_loss did not improve from 0.44378\nEpoch 14/25\n1564/1564 [==============================] - 989s 632ms/step - loss: 0.1427 - MCRMSE: 0.1427 - val_loss: 0.4514 - val_MCRMSE: 0.4514\n\nEpoch 00014: val_loss did not improve from 0.44378\nEpoch 15/25\n1564/1564 [==============================] - 989s 633ms/step - loss: 0.1384 - MCRMSE: 0.1384 - val_loss: 0.4480 - val_MCRMSE: 0.4480\n\nEpoch 00015: val_loss did not improve from 0.44378\nEpoch 16/25\n1564/1564 [==============================] - 987s 631ms/step - loss: 0.1292 - MCRMSE: 0.1292 - val_loss: 0.4579 - val_MCRMSE: 0.4579\n\nEpoch 00016: val_loss did not improve from 0.44378\nEpoch 17/25\n1564/1564 [==============================] - 988s 632ms/step - loss: 0.1283 - MCRMSE: 0.1283 - val_loss: 0.4446 - val_MCRMSE: 0.4446\n\nEpoch 00017: val_loss did not improve from 0.44378\nEpoch 18/25\n1564/1564 [==============================] - 986s 631ms/step - loss: 0.1232 - MCRMSE: 0.1232 - val_loss: 0.4494 - val_MCRMSE: 0.4494\n\nEpoch 00018: val_loss did not improve from 0.44378\nEpoch 19/25\n1564/1564 [==============================] - 971s 621ms/step - loss: 0.1184 - MCRMSE: 0.1184 - val_loss: 0.4464 - val_MCRMSE: 0.4464\n\nEpoch 00019: val_loss did not improve from 0.44378\nEpoch 20/25\n1564/1564 [==============================] - 987s 631ms/step - loss: 0.1146 - MCRMSE: 0.1146 - val_loss: 0.4510 - val_MCRMSE: 0.4510\n\nEpoch 00020: val_loss did not improve from 0.44378\nEpoch 21/25\n1564/1564 [==============================] - 968s 619ms/step - loss: 0.1136 - MCRMSE: 0.1136 - val_loss: 0.4455 - val_MCRMSE: 0.4455\n\nEpoch 00021: val_loss did not improve from 0.44378\nEpoch 22/25\n1564/1564 [==============================] - 965s 617ms/step - loss: 0.1084 - MCRMSE: 0.1084 - val_loss: 0.4464 - val_MCRMSE: 0.4464\n\nEpoch 00022: val_loss did not improve from 0.44378\nEpoch 23/25\n1564/1564 [==============================] - 978s 625ms/step - loss: 0.1053 - MCRMSE: 0.1053 - val_loss: 0.4500 - val_MCRMSE: 0.4500\n\nEpoch 00023: val_loss did not improve from 0.44378\nEpoch 24/25\n1564/1564 [==============================] - 962s 615ms/step - loss: 0.1014 - MCRMSE: 0.1014 - val_loss: 0.4452 - val_MCRMSE: 0.4452\n\nEpoch 00024: val_loss did not improve from 0.44378\nEpoch 25/25\n1564/1564 [==============================] - 978s 626ms/step - loss: 0.0973 - MCRMSE: 0.0973 - val_loss: 0.4420 - val_MCRMSE: 0.4420\n\nEpoch 00025: val_loss improved from 0.44378 to 0.44202, saving model to checkpoints_bert_final/\n",
     "output_type": "stream"
    }
   ]
  },
  {
   "cell_type": "code",
   "source": [
    "import matplotlib.pyplot as plt\n",
    "plt.plot(deez_nuts.history['loss'], label='loss')\n",
    "plt.plot(deez_nuts.history['val_loss'], label='val_loss')\n",
    "plt.xlabel('Epoch')\n",
    "plt.ylabel('Error [MSE]')\n",
    "plt.legend()\n",
    "plt.grid(True)"
   ],
   "metadata": {
    "execution": {
     "iopub.status.busy": "2022-12-09T22:36:02.724233Z",
     "iopub.execute_input": "2022-12-09T22:36:02.724629Z",
     "iopub.status.idle": "2022-12-09T22:36:02.995514Z",
     "shell.execute_reply.started": "2022-12-09T22:36:02.724588Z",
     "shell.execute_reply": "2022-12-09T22:36:02.994481Z"
    },
    "trusted": true
   },
   "execution_count": 43,
   "outputs": [
    {
     "output_type": "display_data",
     "data": {
      "text/plain": "<Figure size 432x288 with 1 Axes>",
      "image/png": "[encoded data removed]"
     },
     "metadata": {
      "needs_background": "light"
     }
    }
   ]
  },
  {
   "cell_type": "code",
   "source": [
    "import json\n",
    "json.dump(deez_nuts.history, open(\"deez_nuts.json\", 'w'))"
   ],
   "metadata": {
    "execution": {
     "iopub.status.busy": "2022-12-09T22:36:02.996860Z",
     "iopub.execute_input": "2022-12-09T22:36:02.997730Z",
     "iopub.status.idle": "2022-12-09T22:36:03.004774Z",
     "shell.execute_reply.started": "2022-12-09T22:36:02.997690Z",
     "shell.execute_reply": "2022-12-09T22:36:03.003901Z"
    },
    "trusted": true
   },
   "execution_count": 44,
   "outputs": []
  },
  {
   "cell_type": "code",
   "source": [],
   "metadata": {},
   "execution_count": null,
   "outputs": []
  }
 ]
}
